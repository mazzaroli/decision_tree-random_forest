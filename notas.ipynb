{
 "cells": [
  {
   "attachments": {},
   "cell_type": "markdown",
   "metadata": {},
   "source": [
    "# Decision Trees y Random Forest con Python y scikit-learn\n",
    "\n",
    "En el campo del **aprendizaje automático**, los **árboles de decisión (Decision Trees)** y los **bosques aleatorios (Random Forest)** son dos de las herramientas más comunes y poderosas utilizadas para la **clasificación** y la **predicción**. En este artículo, exploraremos **qué son exactamente estos modelos, cómo funcionan** y cómo podemos **implementarlos en nuestro propio proyecto individual** utilizando **Scikit-Learn**, una **biblioteca de aprendizaje automático de código abierto en Python**.\n",
    "\n",
    "Antes de adentrarnos en los detalles de la construcción y entrenamiento de modelos de árboles de decisión y bosques aleatorios con Scikit-Learn, es necesario tener conocimientos previos:\n",
    "\n",
    "- [Conocimiento de matemáticas para la inteligencia artificial.](https://deepnote.com/@mazzaroli/Introduccion-a-Funciones-Matematicas-para-Data-Science-e-Inteligencia-Artificial-f9a47b52-0308-4e95-a3d3-c3de3ef7b14f)\n",
    "\n",
    "- Conocimiento de visualización de datos con [Matplotlib](https://matplotlib.org/stable/users/index.html) y [Seaborn](https://jakevdp.github.io/PythonDataScienceHandbook/04.14-visualization-with-seaborn.html).\n",
    "\n",
    "- [Conocimiento de análisis exploratorio de datos.](https://deepnote.com/@mazzaroli/Analisis-exploratorio-de-datos-caba7762-e435-481e-9060-523263a820b1)\n",
    "\n",
    "- Conocimiento de de regresión [lineal](https://deepnote.com/@mazzaroli/Regresion-Lineal-con-Python-y-scikit-learn-86f7bb72-770c-4e28-9e84-0355aed93892) y [logística](https://deepnote.com/@mazzaroli/Regresion-Logistica-con-Python-y-scikit-learn-cd6b9628-59c3-4496-8abc-8beb77d9b4ff).\n"
   ]
  },
  {
   "attachments": {},
   "cell_type": "markdown",
   "metadata": {},
   "source": [
    "## ¿Qué son los árboles de decisión?\n",
    "\n",
    "Los [**árboles de decisión**](https://es.wikipedia.org/wiki/%C3%81rbol_de_decisi%C3%B3n) son un **modelo de aprendizaje automático supervisado** que se utiliza tanto para la **clasificación como para la regresión.** Son ampliamente extendidos debido a su **simplicidad, facilidad de interpretación y versatilidad** en diversas aplicaciones.\n",
    "\n",
    "Los árboles de decisión aprenden de los datos generando **reglas de tipo if-else y divisiones conocidas como nodos.** Cada nodo representa una **pregunta sobre los datos** y cada rama del árbol representa una **respuesta a esa pregunta**. El proceso continúa hasta que se llega a una **hoja del árbol, que representa la predicción final.**\n",
    "\n",
    "Existen varios **algoritmos** que pueden utilizarse para construir árboles de decisión, como **ID3, C4.5** y **CART**. Las primeras versiones de los árboles de decisión fueron propuestas por **[Leo Breiman](https://es.wikipedia.org/wiki/Leo_Breiman)** en la década de 1980.\n",
    "\n",
    "Los árboles de decisión se utilizan comúnmente en **tareas de clasificación**, como la **detección de spam en el correo electrónico** o la **clasificación de clientes en grupos de segmentación de mercado**. También se utilizan en **tareas de regresión**, como la **predicción de precios de bienes raíces**.\n",
    "\n",
    "#### Ejemplo\n",
    "\n",
    "Supongamos que queremos decidir si comprar o no un coche usado. El árbol de decisión podría ser el siguiente:\n",
    "\n",
    "- *¿El coche tiene menos de 5 años?*\n",
    "    - **Sí:** ¿El coche tiene menos de 50,000 km?\n",
    "        - **Sí:** Comprar el coche.\n",
    "        - **No:** No comprar el coche.\n",
    "    - **No:** ¿El coche tiene menos de 80,000 km?\n",
    "        - **Sí:** Comprar el coche.\n",
    "        - **No:** No comprar el coche.\n",
    "        \n",
    "Este árbol tiene dos nodos, con **cada nodo representando una pregunta** y **cada rama representando una posible respuesta**. En función de las respuestas a las preguntas, se llega a una hoja que indica si se debe comprar o no el coche usado."
   ]
  },
  {
   "attachments": {},
   "cell_type": "markdown",
   "metadata": {},
   "source": [
    "## Tu primer árbol de decisión con scikit-learn\n",
    "Utilizaremos el **dataset Titanic** de Standford: https://web.stanford.edu/class/archive/cs/cs109/cs109.1166/problem12.html"
   ]
  },
  {
   "cell_type": "code",
   "execution_count": 145,
   "metadata": {},
   "outputs": [],
   "source": [
    "# Importamos las librerias principales\n",
    "import numpy as np\n",
    "import pandas as pd\n",
    "import matplotlib.pyplot as plt\n",
    "import seaborn as sns\n",
    "\n",
    "sns.set(context='notebook')"
   ]
  },
  {
   "cell_type": "code",
   "execution_count": 146,
   "metadata": {},
   "outputs": [],
   "source": [
    "titanic = pd.read_csv('https://web.stanford.edu/class/archive/cs/cs109/cs109.1166/stuff/titanic.csv', sep=',')"
   ]
  },
  {
   "attachments": {},
   "cell_type": "markdown",
   "metadata": {},
   "source": [
    "### Análisis de datos para tu primer árbol de decisión\n",
    "\n",
    "#### Atributos\n",
    "\n",
    "El conjunto de datos Titanic de CS109 contiene 887 filas y 8 columnas.\n",
    "\n",
    "1. **Survived (Sobrevivió):** indica si el pasajero sobrevivió al hundimiento del Titanic (0 = No, 1 = Sí).\n",
    "\n",
    "1. **Pclass (Clase de pasajero):** indica la clase del pasajero (1 = 1ª clase, 2 = 2ª clase, 3 = 3ª clase).\n",
    "\n",
    "1. **Name (Nombre):** el nombre completo del pasajero.\n",
    "\n",
    "1. **Sex (Género):** el género del pasajero (Masculino o Femenino).\n",
    "\n",
    "1. **Age (Edad):** la edad del pasajero en años.\n",
    "\n",
    "1. **Siblings/Spouses Aboard (Hermanos/Cónyuges a bordo):** el número de hermanos/cónyuges del pasajero que también estaban a bordo del Titanic.\n",
    "\n",
    "1. **Parents/Children Aboard (Padres/Hijos a bordo):** el número de padres/hijos del pasajero que también estaban a bordo del Titanic.\n",
    "\n",
    "1. **Fare (Tarifa):** la tarifa pagada por el pasajero por su viaje en el Titanic."
   ]
  },
  {
   "cell_type": "code",
   "execution_count": 147,
   "metadata": {},
   "outputs": [
    {
     "data": {
      "text/html": [
       "<div>\n",
       "<style scoped>\n",
       "    .dataframe tbody tr th:only-of-type {\n",
       "        vertical-align: middle;\n",
       "    }\n",
       "\n",
       "    .dataframe tbody tr th {\n",
       "        vertical-align: top;\n",
       "    }\n",
       "\n",
       "    .dataframe thead th {\n",
       "        text-align: right;\n",
       "    }\n",
       "</style>\n",
       "<table border=\"1\" class=\"dataframe\">\n",
       "  <thead>\n",
       "    <tr style=\"text-align: right;\">\n",
       "      <th></th>\n",
       "      <th>Survived</th>\n",
       "      <th>Pclass</th>\n",
       "      <th>Name</th>\n",
       "      <th>Sex</th>\n",
       "      <th>Age</th>\n",
       "      <th>Siblings/Spouses Aboard</th>\n",
       "      <th>Parents/Children Aboard</th>\n",
       "      <th>Fare</th>\n",
       "    </tr>\n",
       "  </thead>\n",
       "  <tbody>\n",
       "    <tr>\n",
       "      <th>0</th>\n",
       "      <td>0</td>\n",
       "      <td>3</td>\n",
       "      <td>Mr. Owen Harris Braund</td>\n",
       "      <td>male</td>\n",
       "      <td>22.0</td>\n",
       "      <td>1</td>\n",
       "      <td>0</td>\n",
       "      <td>7.2500</td>\n",
       "    </tr>\n",
       "    <tr>\n",
       "      <th>1</th>\n",
       "      <td>1</td>\n",
       "      <td>1</td>\n",
       "      <td>Mrs. John Bradley (Florence Briggs Thayer) Cum...</td>\n",
       "      <td>female</td>\n",
       "      <td>38.0</td>\n",
       "      <td>1</td>\n",
       "      <td>0</td>\n",
       "      <td>71.2833</td>\n",
       "    </tr>\n",
       "    <tr>\n",
       "      <th>2</th>\n",
       "      <td>1</td>\n",
       "      <td>3</td>\n",
       "      <td>Miss. Laina Heikkinen</td>\n",
       "      <td>female</td>\n",
       "      <td>26.0</td>\n",
       "      <td>0</td>\n",
       "      <td>0</td>\n",
       "      <td>7.9250</td>\n",
       "    </tr>\n",
       "    <tr>\n",
       "      <th>3</th>\n",
       "      <td>1</td>\n",
       "      <td>1</td>\n",
       "      <td>Mrs. Jacques Heath (Lily May Peel) Futrelle</td>\n",
       "      <td>female</td>\n",
       "      <td>35.0</td>\n",
       "      <td>1</td>\n",
       "      <td>0</td>\n",
       "      <td>53.1000</td>\n",
       "    </tr>\n",
       "    <tr>\n",
       "      <th>4</th>\n",
       "      <td>0</td>\n",
       "      <td>3</td>\n",
       "      <td>Mr. William Henry Allen</td>\n",
       "      <td>male</td>\n",
       "      <td>35.0</td>\n",
       "      <td>0</td>\n",
       "      <td>0</td>\n",
       "      <td>8.0500</td>\n",
       "    </tr>\n",
       "    <tr>\n",
       "      <th>5</th>\n",
       "      <td>0</td>\n",
       "      <td>3</td>\n",
       "      <td>Mr. James Moran</td>\n",
       "      <td>male</td>\n",
       "      <td>27.0</td>\n",
       "      <td>0</td>\n",
       "      <td>0</td>\n",
       "      <td>8.4583</td>\n",
       "    </tr>\n",
       "    <tr>\n",
       "      <th>6</th>\n",
       "      <td>0</td>\n",
       "      <td>1</td>\n",
       "      <td>Mr. Timothy J McCarthy</td>\n",
       "      <td>male</td>\n",
       "      <td>54.0</td>\n",
       "      <td>0</td>\n",
       "      <td>0</td>\n",
       "      <td>51.8625</td>\n",
       "    </tr>\n",
       "    <tr>\n",
       "      <th>7</th>\n",
       "      <td>0</td>\n",
       "      <td>3</td>\n",
       "      <td>Master. Gosta Leonard Palsson</td>\n",
       "      <td>male</td>\n",
       "      <td>2.0</td>\n",
       "      <td>3</td>\n",
       "      <td>1</td>\n",
       "      <td>21.0750</td>\n",
       "    </tr>\n",
       "    <tr>\n",
       "      <th>8</th>\n",
       "      <td>1</td>\n",
       "      <td>3</td>\n",
       "      <td>Mrs. Oscar W (Elisabeth Vilhelmina Berg) Johnson</td>\n",
       "      <td>female</td>\n",
       "      <td>27.0</td>\n",
       "      <td>0</td>\n",
       "      <td>2</td>\n",
       "      <td>11.1333</td>\n",
       "    </tr>\n",
       "    <tr>\n",
       "      <th>9</th>\n",
       "      <td>1</td>\n",
       "      <td>2</td>\n",
       "      <td>Mrs. Nicholas (Adele Achem) Nasser</td>\n",
       "      <td>female</td>\n",
       "      <td>14.0</td>\n",
       "      <td>1</td>\n",
       "      <td>0</td>\n",
       "      <td>30.0708</td>\n",
       "    </tr>\n",
       "  </tbody>\n",
       "</table>\n",
       "</div>"
      ],
      "text/plain": [
       "   Survived  Pclass                                               Name  \\\n",
       "0         0       3                             Mr. Owen Harris Braund   \n",
       "1         1       1  Mrs. John Bradley (Florence Briggs Thayer) Cum...   \n",
       "2         1       3                              Miss. Laina Heikkinen   \n",
       "3         1       1        Mrs. Jacques Heath (Lily May Peel) Futrelle   \n",
       "4         0       3                            Mr. William Henry Allen   \n",
       "5         0       3                                    Mr. James Moran   \n",
       "6         0       1                             Mr. Timothy J McCarthy   \n",
       "7         0       3                      Master. Gosta Leonard Palsson   \n",
       "8         1       3   Mrs. Oscar W (Elisabeth Vilhelmina Berg) Johnson   \n",
       "9         1       2                 Mrs. Nicholas (Adele Achem) Nasser   \n",
       "\n",
       "      Sex   Age  Siblings/Spouses Aboard  Parents/Children Aboard     Fare  \n",
       "0    male  22.0                        1                        0   7.2500  \n",
       "1  female  38.0                        1                        0  71.2833  \n",
       "2  female  26.0                        0                        0   7.9250  \n",
       "3  female  35.0                        1                        0  53.1000  \n",
       "4    male  35.0                        0                        0   8.0500  \n",
       "5    male  27.0                        0                        0   8.4583  \n",
       "6    male  54.0                        0                        0  51.8625  \n",
       "7    male   2.0                        3                        1  21.0750  \n",
       "8  female  27.0                        0                        2  11.1333  \n",
       "9  female  14.0                        1                        0  30.0708  "
      ]
     },
     "execution_count": 147,
     "metadata": {},
     "output_type": "execute_result"
    }
   ],
   "source": [
    "# Visualizacion del Dataframe\n",
    "titanic.head(10)"
   ]
  },
  {
   "attachments": {},
   "cell_type": "markdown",
   "metadata": {},
   "source": [
    "Se eliminará la columna **\"Fare\"** ya que esta información está altamente correlacionada con la columna **\"Pclass\"** que nos indica la lase social del pasajero. Además, se eliminará la columna \"Name\" ya que no es relevante para el análisis que se realizará.\n",
    "\n",
    "> ⚠\\\n",
    "> **Antes de eliminar cualquier columna** de un conjunto de datos, **es importante tener una comprensión completa de los datos** y el objetivo del análisis. Además, siempre **es recomendable consultar con otros expertos o interesados** en los datos para asegurarse **de que no se está eliminando información importante** o relevante.\\\n",
    "> ⚠\n",
    ">\n",
    "> las columnas **\"Fare\"** y **\"Name\"** en el dataset Titanic de CS109 **contienen información importante.** La columna \"Fare\" representa el precio del billete pagado por cada pasajero, lo que puede ser útil para analizar la relación entre la tarifa y la clase de pasajero. Por otro lado, la columna \"Name\" contiene información sobre el nombre de cada pasajero, que podría ser útil para el análisis de patrones de nombres o la búsqueda de información adicional sobre individuos específicos. Sin embargo, **en el contexto de un análisis específico de la supervivencia de los pasajeros en el Titanic, estas columnas pueden no ser relevantes** y por lo tanto podrían ser eliminadas para simplificar el conjunto de datos."
   ]
  },
  {
   "cell_type": "code",
   "execution_count": 148,
   "metadata": {},
   "outputs": [],
   "source": [
    "# Eliminamos las columnas que no nos interesan\n",
    "titanic.drop(\n",
    "    ['Name', 'Fare'], \n",
    "    axis=1,\n",
    "    inplace=True)"
   ]
  },
  {
   "cell_type": "code",
   "execution_count": 149,
   "metadata": {},
   "outputs": [
    {
     "data": {
      "text/html": [
       "<div>\n",
       "<style scoped>\n",
       "    .dataframe tbody tr th:only-of-type {\n",
       "        vertical-align: middle;\n",
       "    }\n",
       "\n",
       "    .dataframe tbody tr th {\n",
       "        vertical-align: top;\n",
       "    }\n",
       "\n",
       "    .dataframe thead th {\n",
       "        text-align: right;\n",
       "    }\n",
       "</style>\n",
       "<table border=\"1\" class=\"dataframe\">\n",
       "  <thead>\n",
       "    <tr style=\"text-align: right;\">\n",
       "      <th></th>\n",
       "      <th>Survived</th>\n",
       "      <th>Pclass</th>\n",
       "      <th>Sex</th>\n",
       "      <th>Age</th>\n",
       "      <th>SibSp</th>\n",
       "      <th>ParCh</th>\n",
       "    </tr>\n",
       "  </thead>\n",
       "  <tbody>\n",
       "    <tr>\n",
       "      <th>0</th>\n",
       "      <td>0</td>\n",
       "      <td>3</td>\n",
       "      <td>male</td>\n",
       "      <td>22.0</td>\n",
       "      <td>1</td>\n",
       "      <td>0</td>\n",
       "    </tr>\n",
       "    <tr>\n",
       "      <th>1</th>\n",
       "      <td>1</td>\n",
       "      <td>1</td>\n",
       "      <td>female</td>\n",
       "      <td>38.0</td>\n",
       "      <td>1</td>\n",
       "      <td>0</td>\n",
       "    </tr>\n",
       "    <tr>\n",
       "      <th>2</th>\n",
       "      <td>1</td>\n",
       "      <td>3</td>\n",
       "      <td>female</td>\n",
       "      <td>26.0</td>\n",
       "      <td>0</td>\n",
       "      <td>0</td>\n",
       "    </tr>\n",
       "    <tr>\n",
       "      <th>3</th>\n",
       "      <td>1</td>\n",
       "      <td>1</td>\n",
       "      <td>female</td>\n",
       "      <td>35.0</td>\n",
       "      <td>1</td>\n",
       "      <td>0</td>\n",
       "    </tr>\n",
       "    <tr>\n",
       "      <th>4</th>\n",
       "      <td>0</td>\n",
       "      <td>3</td>\n",
       "      <td>male</td>\n",
       "      <td>35.0</td>\n",
       "      <td>0</td>\n",
       "      <td>0</td>\n",
       "    </tr>\n",
       "  </tbody>\n",
       "</table>\n",
       "</div>"
      ],
      "text/plain": [
       "   Survived  Pclass     Sex   Age  SibSp  ParCh\n",
       "0         0       3    male  22.0      1      0\n",
       "1         1       1  female  38.0      1      0\n",
       "2         1       3  female  26.0      0      0\n",
       "3         1       1  female  35.0      1      0\n",
       "4         0       3    male  35.0      0      0"
      ]
     },
     "execution_count": 149,
     "metadata": {},
     "output_type": "execute_result"
    }
   ],
   "source": [
    "# Renombramos las columnas Siblings/Spouses Aboard\ty Parents/Children Aboard por SibSp y ParCh \n",
    "titanic.columns = ['Survived', 'Pclass', 'Sex', 'Age', 'SibSp', 'ParCh']\n",
    "titanic.head()"
   ]
  },
  {
   "cell_type": "code",
   "execution_count": 150,
   "metadata": {},
   "outputs": [
    {
     "data": {
      "text/plain": [
       "(887, 6)"
      ]
     },
     "execution_count": 150,
     "metadata": {},
     "output_type": "execute_result"
    }
   ],
   "source": [
    "# Analizamos el shape del objeto\n",
    "titanic.shape"
   ]
  },
  {
   "cell_type": "code",
   "execution_count": 151,
   "metadata": {},
   "outputs": [
    {
     "name": "stdout",
     "output_type": "stream",
     "text": [
      "<class 'pandas.core.frame.DataFrame'>\n",
      "RangeIndex: 887 entries, 0 to 886\n",
      "Data columns (total 6 columns):\n",
      " #   Column    Non-Null Count  Dtype  \n",
      "---  ------    --------------  -----  \n",
      " 0   Survived  887 non-null    int64  \n",
      " 1   Pclass    887 non-null    int64  \n",
      " 2   Sex       887 non-null    object \n",
      " 3   Age       887 non-null    float64\n",
      " 4   SibSp     887 non-null    int64  \n",
      " 5   ParCh     887 non-null    int64  \n",
      "dtypes: float64(1), int64(4), object(1)\n",
      "memory usage: 41.7+ KB\n"
     ]
    }
   ],
   "source": [
    "# Visualizamos los tipos de datos\n",
    "titanic.info()"
   ]
  },
  {
   "cell_type": "code",
   "execution_count": 152,
   "metadata": {},
   "outputs": [],
   "source": [
    "# Cambiamos los tipos de datos de Sex\n",
    "titanic = pd.get_dummies(titanic, columns=['Sex'], drop_first=True)"
   ]
  },
  {
   "cell_type": "code",
   "execution_count": 153,
   "metadata": {},
   "outputs": [
    {
     "data": {
      "text/plain": [
       "Survived      int64\n",
       "Pclass        int64\n",
       "Age         float64\n",
       "SibSp         int64\n",
       "ParCh         int64\n",
       "Sex_male      uint8\n",
       "dtype: object"
      ]
     },
     "execution_count": 153,
     "metadata": {},
     "output_type": "execute_result"
    }
   ],
   "source": [
    "titanic.dtypes"
   ]
  },
  {
   "cell_type": "code",
   "execution_count": 154,
   "metadata": {},
   "outputs": [
    {
     "data": {
      "text/html": [
       "<div>\n",
       "<style scoped>\n",
       "    .dataframe tbody tr th:only-of-type {\n",
       "        vertical-align: middle;\n",
       "    }\n",
       "\n",
       "    .dataframe tbody tr th {\n",
       "        vertical-align: top;\n",
       "    }\n",
       "\n",
       "    .dataframe thead th {\n",
       "        text-align: right;\n",
       "    }\n",
       "</style>\n",
       "<table border=\"1\" class=\"dataframe\">\n",
       "  <thead>\n",
       "    <tr style=\"text-align: right;\">\n",
       "      <th></th>\n",
       "      <th>Survived</th>\n",
       "      <th>Pclass</th>\n",
       "      <th>Age</th>\n",
       "      <th>SibSp</th>\n",
       "      <th>ParCh</th>\n",
       "      <th>Sex_male</th>\n",
       "    </tr>\n",
       "  </thead>\n",
       "  <tbody>\n",
       "    <tr>\n",
       "      <th>0</th>\n",
       "      <td>0</td>\n",
       "      <td>3</td>\n",
       "      <td>22.0</td>\n",
       "      <td>1</td>\n",
       "      <td>0</td>\n",
       "      <td>1</td>\n",
       "    </tr>\n",
       "    <tr>\n",
       "      <th>1</th>\n",
       "      <td>1</td>\n",
       "      <td>1</td>\n",
       "      <td>38.0</td>\n",
       "      <td>1</td>\n",
       "      <td>0</td>\n",
       "      <td>0</td>\n",
       "    </tr>\n",
       "    <tr>\n",
       "      <th>2</th>\n",
       "      <td>1</td>\n",
       "      <td>3</td>\n",
       "      <td>26.0</td>\n",
       "      <td>0</td>\n",
       "      <td>0</td>\n",
       "      <td>0</td>\n",
       "    </tr>\n",
       "    <tr>\n",
       "      <th>3</th>\n",
       "      <td>1</td>\n",
       "      <td>1</td>\n",
       "      <td>35.0</td>\n",
       "      <td>1</td>\n",
       "      <td>0</td>\n",
       "      <td>0</td>\n",
       "    </tr>\n",
       "    <tr>\n",
       "      <th>4</th>\n",
       "      <td>0</td>\n",
       "      <td>3</td>\n",
       "      <td>35.0</td>\n",
       "      <td>0</td>\n",
       "      <td>0</td>\n",
       "      <td>1</td>\n",
       "    </tr>\n",
       "  </tbody>\n",
       "</table>\n",
       "</div>"
      ],
      "text/plain": [
       "   Survived  Pclass   Age  SibSp  ParCh  Sex_male\n",
       "0         0       3  22.0      1      0         1\n",
       "1         1       1  38.0      1      0         0\n",
       "2         1       3  26.0      0      0         0\n",
       "3         1       1  35.0      1      0         0\n",
       "4         0       3  35.0      0      0         1"
      ]
     },
     "execution_count": 154,
     "metadata": {},
     "output_type": "execute_result"
    }
   ],
   "source": [
    "titanic.head()"
   ]
  },
  {
   "cell_type": "code",
   "execution_count": 155,
   "metadata": {},
   "outputs": [],
   "source": [
    "# Renombramos columna Sex_male a Sex\n",
    "titanic.rename(columns={'Sex_male':'Sex'},inplace=True)"
   ]
  },
  {
   "attachments": {},
   "cell_type": "markdown",
   "metadata": {},
   "source": [
    "- Sex = 1 = Male\n",
    "- Sex = 0 = Female"
   ]
  },
  {
   "cell_type": "code",
   "execution_count": 156,
   "metadata": {},
   "outputs": [
    {
     "data": {
      "text/html": [
       "<div>\n",
       "<style scoped>\n",
       "    .dataframe tbody tr th:only-of-type {\n",
       "        vertical-align: middle;\n",
       "    }\n",
       "\n",
       "    .dataframe tbody tr th {\n",
       "        vertical-align: top;\n",
       "    }\n",
       "\n",
       "    .dataframe thead th {\n",
       "        text-align: right;\n",
       "    }\n",
       "</style>\n",
       "<table border=\"1\" class=\"dataframe\">\n",
       "  <thead>\n",
       "    <tr style=\"text-align: right;\">\n",
       "      <th></th>\n",
       "      <th>Survived</th>\n",
       "      <th>Pclass</th>\n",
       "      <th>Sex</th>\n",
       "      <th>Age</th>\n",
       "      <th>SibSp</th>\n",
       "      <th>ParCh</th>\n",
       "    </tr>\n",
       "  </thead>\n",
       "  <tbody>\n",
       "    <tr>\n",
       "      <th>0</th>\n",
       "      <td>0</td>\n",
       "      <td>3</td>\n",
       "      <td>1</td>\n",
       "      <td>22.0</td>\n",
       "      <td>1</td>\n",
       "      <td>0</td>\n",
       "    </tr>\n",
       "    <tr>\n",
       "      <th>1</th>\n",
       "      <td>1</td>\n",
       "      <td>1</td>\n",
       "      <td>0</td>\n",
       "      <td>38.0</td>\n",
       "      <td>1</td>\n",
       "      <td>0</td>\n",
       "    </tr>\n",
       "    <tr>\n",
       "      <th>2</th>\n",
       "      <td>1</td>\n",
       "      <td>3</td>\n",
       "      <td>0</td>\n",
       "      <td>26.0</td>\n",
       "      <td>0</td>\n",
       "      <td>0</td>\n",
       "    </tr>\n",
       "    <tr>\n",
       "      <th>3</th>\n",
       "      <td>1</td>\n",
       "      <td>1</td>\n",
       "      <td>0</td>\n",
       "      <td>35.0</td>\n",
       "      <td>1</td>\n",
       "      <td>0</td>\n",
       "    </tr>\n",
       "    <tr>\n",
       "      <th>4</th>\n",
       "      <td>0</td>\n",
       "      <td>3</td>\n",
       "      <td>1</td>\n",
       "      <td>35.0</td>\n",
       "      <td>0</td>\n",
       "      <td>0</td>\n",
       "    </tr>\n",
       "    <tr>\n",
       "      <th>...</th>\n",
       "      <td>...</td>\n",
       "      <td>...</td>\n",
       "      <td>...</td>\n",
       "      <td>...</td>\n",
       "      <td>...</td>\n",
       "      <td>...</td>\n",
       "    </tr>\n",
       "    <tr>\n",
       "      <th>882</th>\n",
       "      <td>0</td>\n",
       "      <td>2</td>\n",
       "      <td>1</td>\n",
       "      <td>27.0</td>\n",
       "      <td>0</td>\n",
       "      <td>0</td>\n",
       "    </tr>\n",
       "    <tr>\n",
       "      <th>883</th>\n",
       "      <td>1</td>\n",
       "      <td>1</td>\n",
       "      <td>0</td>\n",
       "      <td>19.0</td>\n",
       "      <td>0</td>\n",
       "      <td>0</td>\n",
       "    </tr>\n",
       "    <tr>\n",
       "      <th>884</th>\n",
       "      <td>0</td>\n",
       "      <td>3</td>\n",
       "      <td>0</td>\n",
       "      <td>7.0</td>\n",
       "      <td>1</td>\n",
       "      <td>2</td>\n",
       "    </tr>\n",
       "    <tr>\n",
       "      <th>885</th>\n",
       "      <td>1</td>\n",
       "      <td>1</td>\n",
       "      <td>1</td>\n",
       "      <td>26.0</td>\n",
       "      <td>0</td>\n",
       "      <td>0</td>\n",
       "    </tr>\n",
       "    <tr>\n",
       "      <th>886</th>\n",
       "      <td>0</td>\n",
       "      <td>3</td>\n",
       "      <td>1</td>\n",
       "      <td>32.0</td>\n",
       "      <td>0</td>\n",
       "      <td>0</td>\n",
       "    </tr>\n",
       "  </tbody>\n",
       "</table>\n",
       "<p>887 rows × 6 columns</p>\n",
       "</div>"
      ],
      "text/plain": [
       "     Survived  Pclass  Sex   Age  SibSp  ParCh\n",
       "0           0       3    1  22.0      1      0\n",
       "1           1       1    0  38.0      1      0\n",
       "2           1       3    0  26.0      0      0\n",
       "3           1       1    0  35.0      1      0\n",
       "4           0       3    1  35.0      0      0\n",
       "..        ...     ...  ...   ...    ...    ...\n",
       "882         0       2    1  27.0      0      0\n",
       "883         1       1    0  19.0      0      0\n",
       "884         0       3    0   7.0      1      2\n",
       "885         1       1    1  26.0      0      0\n",
       "886         0       3    1  32.0      0      0\n",
       "\n",
       "[887 rows x 6 columns]"
      ]
     },
     "execution_count": 156,
     "metadata": {},
     "output_type": "execute_result"
    }
   ],
   "source": [
    "# Ordenar colummas por nombres\n",
    "titanic = titanic[['Survived','Pclass','Sex','Age','SibSp','ParCh']]\n",
    "titanic"
   ]
  },
  {
   "attachments": {},
   "cell_type": "markdown",
   "metadata": {},
   "source": [
    "### Entrenamiento de árbol de decisión con scikit-learn"
   ]
  },
  {
   "cell_type": "code",
   "execution_count": 157,
   "metadata": {},
   "outputs": [
    {
     "data": {
      "text/plain": [
       "0    0.614431\n",
       "1    0.385569\n",
       "Name: Survived, dtype: float64"
      ]
     },
     "execution_count": 157,
     "metadata": {},
     "output_type": "execute_result"
    }
   ],
   "source": [
    "# Vemos la proporcion del a variable objetivo\n",
    "titanic.Survived.value_counts(normalize=True)"
   ]
  },
  {
   "cell_type": "code",
   "execution_count": 158,
   "metadata": {},
   "outputs": [],
   "source": [
    "# importamos libreria para balancear los datos\n",
    "from imblearn.under_sampling import RandomUnderSampler\n",
    "undersample = RandomUnderSampler(random_state=42)"
   ]
  },
  {
   "cell_type": "code",
   "execution_count": 159,
   "metadata": {},
   "outputs": [],
   "source": [
    "# Separamos en X e y\n",
    "X_titanic = titanic.drop('Survived', axis=1)\n",
    "y_titanic = titanic.Survived"
   ]
  },
  {
   "cell_type": "code",
   "execution_count": 160,
   "metadata": {},
   "outputs": [
    {
     "data": {
      "text/plain": [
       "0    0.5\n",
       "1    0.5\n",
       "Name: Survived, dtype: float64"
      ]
     },
     "execution_count": 160,
     "metadata": {},
     "output_type": "execute_result"
    }
   ],
   "source": [
    "# Balanceamos los datos\n",
    "X_over_titanic, y_over_titanic  = undersample.fit_resample(X_titanic,y_titanic)\n",
    "y_over_titanic.value_counts(normalize=True)\n"
   ]
  },
  {
   "cell_type": "code",
   "execution_count": 161,
   "metadata": {},
   "outputs": [],
   "source": [
    "# Importamos las librerias para dividir el dataset\n",
    "from sklearn.model_selection import train_test_split\n",
    "\n",
    "# 30% para test y 70% para train\n",
    "X_train_titanic, X_test_titanic, y_train_titanic, y_test_titanic = train_test_split(X_over_titanic,y_over_titanic, test_size=0.30, random_state=42)"
   ]
  },
  {
   "cell_type": "code",
   "execution_count": 162,
   "metadata": {},
   "outputs": [
    {
     "name": "stdout",
     "output_type": "stream",
     "text": [
      "Mejores hiperparámetros encontrados:\n",
      "{'criterion': 'gini', 'max_depth': 4}\n",
      "Mejor puntuación de validación cruzada:\n",
      "0.7908687943262411\n"
     ]
    }
   ],
   "source": [
    "# Importamos las librerias para la creacion del modelo\n",
    "from sklearn.tree import DecisionTreeClassifier\n",
    "from sklearn.model_selection import GridSearchCV\n",
    "\n",
    "# Definir el clasificador y los valores de los hiperparámetros a probar\n",
    "clf = DecisionTreeClassifier(random_state=42)\n",
    "param_grid = {'criterion': ['gini', 'entropy'], 'max_depth': [2, 3, 4, 5]}\n",
    "\n",
    "# Realizar la búsqueda de hiperparámetros utilizando GridSearchCV\n",
    "grid_search = GridSearchCV(clf, param_grid=param_grid, cv=10, return_train_score=True)\n",
    "grid_search.fit(X_train_titanic, y_train_titanic)\n",
    "\n",
    "# Imprimir los resultados\n",
    "print(\"Mejores hiperparámetros encontrados:\")\n",
    "print(grid_search.best_params_)\n",
    "print(\"Mejor puntuación de validación cruzada:\")\n",
    "print(grid_search.best_score_)"
   ]
  },
  {
   "cell_type": "code",
   "execution_count": 163,
   "metadata": {},
   "outputs": [],
   "source": [
    "# Modelo decision tree con parametros optimizados\n",
    "best_clf = grid_search.best_estimator_"
   ]
  },
  {
   "cell_type": "code",
   "execution_count": 164,
   "metadata": {},
   "outputs": [],
   "source": [
    "# Predecimos Y\n",
    "y_train_pred_titanic = best_clf.predict(X_train_titanic)\n",
    "y_test_pred_titanic = best_clf.predict(X_test_titanic)"
   ]
  },
  {
   "attachments": {},
   "cell_type": "markdown",
   "metadata": {},
   "source": [
    "### Evaluacion del modelo"
   ]
  },
  {
   "cell_type": "code",
   "execution_count": 165,
   "metadata": {},
   "outputs": [
    {
     "data": {
      "text/plain": [
       "<sklearn.metrics._plot.confusion_matrix.ConfusionMatrixDisplay at 0x7f4bf41361c0>"
      ]
     },
     "execution_count": 165,
     "metadata": {},
     "output_type": "execute_result"
    },
    {
     "data": {
      "image/png": "[encoded data removed]",
      "text/plain": [
       "<Figure size 432x288 with 2 Axes>"
      ]
     },
     "metadata": {},
     "output_type": "display_data"
    }
   ],
   "source": [
    "# Graficamos matriz de confusion\n",
    "from sklearn.metrics import confusion_matrix\n",
    "from sklearn.metrics import ConfusionMatrixDisplay\n",
    "cm = confusion_matrix(y_test_titanic,y_test_pred_titanic,labels=best_clf.classes_)\n",
    "ConfusionMatrixDisplay(cm, display_labels=best_clf.classes_).plot()"
   ]
  },
  {
   "cell_type": "code",
   "execution_count": 166,
   "metadata": {},
   "outputs": [],
   "source": [
    "# Calculo de las predicciones en Train y test\n",
    "y_train_pred = best_clf.predict(X_train_titanic)\n",
    "y_test_pred = best_clf.predict(X_test_titanic)"
   ]
  },
  {
   "cell_type": "code",
   "execution_count": 167,
   "metadata": {},
   "outputs": [
    {
     "name": "stdout",
     "output_type": "stream",
     "text": [
      "El accuracy en train es: 0.8179916317991632\n",
      "El accuracy en test es: 0.8252427184466019\n"
     ]
    }
   ],
   "source": [
    "from sklearn.metrics import accuracy_score\n",
    "print('El accuracy en train es:',accuracy_score(y_train_titanic,y_train_pred_titanic))\n",
    "print('El accuracy en test es:', accuracy_score(y_test_titanic,y_test_pred_titanic))\n"
   ]
  },
  {
   "cell_type": "code",
   "execution_count": 168,
   "metadata": {},
   "outputs": [],
   "source": [
    "feature_scores_titanic = pd.DataFrame(pd.Series(grid_search.best_estimator_.feature_importances_, index=X_train_titanic.columns).sort_values(ascending=False)).T"
   ]
  },
  {
   "cell_type": "code",
   "execution_count": 169,
   "metadata": {},
   "outputs": [
    {
     "name": "stderr",
     "output_type": "stream",
     "text": [
      "/home/mazzaroli/anaconda3/lib/python3.9/site-packages/seaborn/categorical.py:82: FutureWarning: iteritems is deprecated and will be removed in a future version. Use .items instead.\n",
      "  plot_data = [np.asarray(s, float) for k, s in iter_data]\n"
     ]
    },
    {
     "data": {
      "image/png": "[encoded data removed]",
      "text/plain": [
       "<Figure size 864x288 with 1 Axes>"
      ]
     },
     "metadata": {},
     "output_type": "display_data"
    }
   ],
   "source": [
    "plt.figure(figsize=(12,4))\n",
    "sns.barplot(data=feature_scores_titanic)\n",
    "\n",
    "for index, value in enumerate(feature_scores_titanic.values.flatten()):\n",
    "    plt.annotate(f'{value:.2f}', xy=(index, value), ha='center', va='bottom')\n",
    "\n",
    "\n",
    "plt.title(\"Factores clave en la predicción de la supervivencia en el Titanic\")\n",
    "plt.show()"
   ]
  },
  {
   "attachments": {},
   "cell_type": "markdown",
   "metadata": {},
   "source": [
    "- Podemos observar que para la clasificación del modelo en base a la variable target: **Survived**, los **features más importantes** son: **Sex**, seguido de **Age** y luego de **Pclass**. \n",
    " \n",
    "- **SibSp** y **ParCh no tienen un impacto significativo** en la capacidad del modelo para predecir la variable objetivo, **se podrían eliminar sin afectar la capacidad de predicción**.\n",
    "\n",
    "- Es importante destacar que se observa una performance parecida en la métrica de **Accuracy** para los datos de **Train** y de **Test**, lo cual es claramente positivo para nuestro modelo. "
   ]
  },
  {
   "attachments": {},
   "cell_type": "markdown",
   "metadata": {},
   "source": [
    "## ¿Cómo funcionan los árboles de decisión?\n",
    "\n",
    "Los árboles de decisión son un tipo de **modelo de aprendizaje supervisado** que se utilizan para **clasificar o predecir valores numéricos**. En resumen, los árboles de decisión toman un conjunto de datos de entrada, lo dividen en subconjuntos basados en diferentes atributos y, finalmente, hacen una predicción sobre el valor de salida.\n",
    "\n",
    "Por ejemplo, considera el siguiente conjunto de datos que describe varios productos que se venden en una tienda en línea:\n",
    "\n",
    "|Producto|Precio|\tDescuento|\tEn Oferta|\n",
    "|--------|------|----------|-----------|\n",
    "|A\t      |10\t |0.05\t   |Sí         |\n",
    "|B\t      |20\t |0.10\t   |No         |\n",
    "|C\t      |30\t |0.20\t   |Sí         |\n",
    "|D\t      |15\t |0.15\t   |Sí         |\n",
    "|E\t      |25\t |0.10\t   |No         |\n",
    "\n",
    "En este caso, queremos construir un árbol de decisión que nos permita **predecir si un producto estará en oferta o no, en función de sus características.**\n",
    "\n",
    "Comenzamos por construir el **nodo raíz**, que representa el conjunto completo de datos. A continuación, seleccionamos un atributo para dividir el conjunto de datos. En este caso, podríamos elegir el atributo **\"Precio\"** como nuestra primera división.\n",
    "\n",
    "Supongamos que elegimos un umbral de $20 para el precio, lo que significa que cualquier producto con un precio mayor a $20 se considerará \"caro\" y cualquier producto con un precio menor o igual a $20 se considerará \"barato\". La primera división del árbol quedaría así:\n",
    "\n",
    "```java\n",
    "                     Precio <= 20\n",
    "                    /            \\\n",
    "         Sí (Producto Barato)  No (Producto Caro) \n",
    "```\n",
    "El árbol de decisión tiene dos ramas: una rama para los productos baratos y otra para los productos caros. La rama para los productos baratos conduce a un **nodo de hoja** que indica que el producto A está en oferta. La rama para los productos caros conduce a otro **nodo de decisión**, que utiliza el descuento para decidir si el producto está en oferta o no.\n",
    "\n",
    "Supongamos que elegimos un umbral de descuento del 15%. Entonces, el árbol de decisión completo quedaría así:\n",
    "\n",
    "```java\n",
    "                     Precio <= 20\n",
    "                    /            \\\n",
    "         Sí (Producto Barato)  No (Producto Caro) \n",
    "                  /                       \\\n",
    "      (Descuento <= 3%)              (Descuento <= 15%)\n",
    "      /            \\                  /                \\\n",
    "Sí (Sin oferta)  No (En oferta)    Sí (Sin oferta)  No (En oferta)\n",
    "```\n",
    "Este árbol nos permite **predecir si un producto está en oferta o no en función de su precio y su descuento.**\n",
    "\n",
    "<img src='https://blog.mindmanager.com/wp-content/uploads/2022/03/Decision-Tree-Diagram-Example-MindManager-Blog.png' width=500>"
   ]
  },
  {
   "attachments": {},
   "cell_type": "markdown",
   "metadata": {},
   "source": [
    "### Terminología de los árboles de decisión\n",
    "\n",
    "Aquí está la terminología comúnmente utilizada en los árboles de decisión:\n",
    "\n",
    "- **Nodo raíz:** Es el primer nodo del árbol de decisión y no tiene un nodo padre. Representa el conjunto de datos completo y es el punto de partida para la construcción del árbol.\n",
    "\n",
    "- **División:** Es la separación de un conjunto de datos en subconjuntos más pequeños y homogéneos en función de un atributo determinado. Cada división genera un nuevo nodo y una nueva rama en el árbol.\n",
    "\n",
    "- **Nodo de decisión:** Es un nodo interno del árbol que representa una característica del conjunto de datos y tiene al menos dos ramas que indican las posibles opciones para esa característica.\n",
    "\n",
    "- **Nodo de hoja:** Es un nodo terminal del árbol que no tiene más ramas y representa una etiqueta de clase o una predicción para el conjunto de datos de entrada.\n",
    "\n",
    "- **Poda (pruning):** Es un proceso de eliminación de nodos innecesarios del árbol para evitar el sobreajuste (overfitting) del modelo y mejorar su capacidad de generalización. La poda se realiza después de construir el árbol y puede ser prepruning o postpruning.\n",
    "\n",
    "- **Rama:** Es una conexión entre dos nodos del árbol que representa una opción posible para un atributo determinado.\n",
    "\n",
    "- **Nodo madre/padre:** Es el nodo inmediatamente anterior a un nodo específico en el árbol. Un nodo puede tener varios nodos hijos, pero solo tiene un nodo padre.\n",
    "\n",
    "- **Hijo:** Es un nodo inmediatamente posterior a un nodo específico en el árbol. Un nodo puede tener varios nodos hijos, pero solo tiene un nodo padre.\n"
   ]
  },
  {
   "attachments": {},
   "cell_type": "markdown",
   "metadata": {},
   "source": [
    "## ¿Cuándo usar árboles de decisión?\n",
    "\n",
    "### Ventajas\n",
    "\n",
    "- **Algoritmo de caja blanca:** los árboles de decisión son considerados [algoritmos de caja blanca](https://es.wikipedia.org/wiki/Caja_blanca_(sistemas)), lo que significa que son modelos fácilmente interpretables y comprensibles por los humanos.\n",
    "\n",
    "- **Resultados fáciles de interpretar y entender:** como se mencionó anteriormente, los árboles de decisión son modelos fáciles de interpretar y entender, ya que cada paso en el proceso de toma de decisiones se representa explícitamente. Esto permite que los expertos del dominio puedan validar el modelo y dar sugerencias para mejorarlo.\n",
    "\n",
    "- **Las combinaciones de los mismos pueden dar resultados muy certeros:** los árboles de decisión individuales pueden ser limitados en términos de precisión de predicción. Sin embargo, una técnica que se utiliza para mejorar la precisión de los árboles de decisión es la combinación de varios árboles en un conjunto, como en el caso de Random Forest. Esto se conoce como ensamblaje de modelos y puede proporcionar una mayor precisión en las predicciones.\n",
    "\n",
    "### Desventajas\n",
    "\n",
    "- **Tendencia al sobreajuste u overfitting:** los árboles de decisión tienen una tendencia natural a sobreajustarse o overfitting, lo que significa que pueden ajustarse demasiado a los datos de entrenamiento y no generalizar bien para nuevos datos. Esto se puede prevenir mediante técnicas de **poda** o **regularización**.\n",
    "\n",
    "- **Influencia de los outliers:** los outliers o valores atípicos pueden tener una influencia significativa en la creación de los árboles de decisión, ya que pueden sesgar la partición de los datos. Una solución a esto es utilizar técnicas de **preprocesamiento de datos** para tratar con los outliers antes de crear el árbol.\n",
    "\n",
    "- **Arboles demasiado complejos pueden no adaptarse bien a los nuevos datos:** si se crean árboles de decisión demasiado complejos, pueden adaptarse demasiado a los datos de entrenamiento y no generalizar bien para nuevos datos. Esto se puede prevenir mediante técnicas de **poda** o **regularización** para simplificar el árbol.\n",
    "\n",
    "- **Posibilidad de crear árboles sesgados si una clase es más numerosa:** si una clase es significativamente más numerosa que las demás clases, el árbol de decisión puede estar sesgado hacia esa clase mayoritaria y no prestar suficiente atención a las otras clases. Esto se puede prevenir mediante técnicas de **balanceo** de clases, como el **muestreo estratificado** o el **aumento de datos**.\n",
    "\n",
    "### ¿Cuándo usar árboles de decisión?\n",
    "\n",
    "- **Sencillo y fácil de entender:** los árboles de decisión son una técnica sencilla y fácil de interpretar. Por lo tanto, es recomendable utilizarlos cuando se busca una solución clara y fácil de entender. Además, la estructura de árbol es intuitiva y fácil de visualizar, lo que hace que el proceso de toma de decisiones sea más fácil de entender.\n",
    "\n",
    "- **Funcionan bastante bien con grandes conjuntos de datos:** los árboles de decisión pueden funcionar muy bien con grandes conjuntos de datos. A medida que el tamaño del conjunto de datos aumenta, los árboles de decisión se vuelven más útiles, ya que pueden segmentar el conjunto de datos en grupos más pequeños y más manejables para un análisis más profundo.\n",
    "\n",
    "- **Relativamente robusto:** los árboles de decisión son relativamente robustos y pueden manejar datos faltantes o ruidosos. Además, son útiles en situaciones en las que se necesitan resultados precisos con una alta tasa de precisión.\n",
    "\n",
    "- **Método útil para analizar datos cuantitativos:** los árboles de decisión son particularmente útiles para analizar datos cuantitativos. Por ejemplo, en el análisis de negocios, los árboles de decisión pueden ayudar a identificar patrones en grandes conjuntos de datos y hacer recomendaciones basadas en esa información.\n",
    "\n",
    "- **Aplicable para clasificación y regresión:** los árboles de decisión se pueden utilizar para problemas de clasificación y regresión. En problemas de clasificación, se utiliza para asignar una etiqueta a un objeto, mientras que en problemas de regresión, se utiliza para predecir una variable continua."
   ]
  },
  {
   "attachments": {},
   "cell_type": "markdown",
   "metadata": {},
   "source": [
    "# Proyecto práctico: árboles de decisión\n",
    "\n",
    "Data comes frome: [Car Evaluation Data Set](https://www.kaggle.com/datasets/elikplim/car-evaluation-data-set)\n",
    "\n",
    "En este proyecto, exploraremos el conjunto de datos **\"Car Evaluation Data Set\"** y utilizaremos **árboles de decisión** para construir un **modelo de clasificación** capaz de **predecir la calidad de compra de un automóvil**."
   ]
  },
  {
   "attachments": {},
   "cell_type": "markdown",
   "metadata": {},
   "source": [
    "## Conociendo nuestro dataset\n",
    "\n",
    "El conjunto de datos \"Car Evaluation Data Set\" es un conjunto de datos público que consta de **1728 instancias etiquetadas con la clase de calidad de compra del automóvil**. Cada instancia tiene **6 atributos discretos: precio, mantenimiento, número de puertas, capacidad de personas, tamaño del maletero y seguridad.**\n",
    "\n",
    "Los atributos son definidos de la siguiente manera:\n",
    "\n",
    "\n",
    "- **price (Precio):** representa el costo del automóvil. Los valores posibles son 'vhigh' (muy caro), 'high' (caro), 'med' (medio) y 'low' (económico).\n",
    "\n",
    "- **maint (Mantenimiento):** representa el costo de mantenimiento del automóvil. Los valores posibles son 'vhigh' (muy caro), 'high' (caro), 'med' (medio) y 'low' (económico).\n",
    "\n",
    "- **doors (Número de puertas):** representa la cantidad de puertas que tiene el automóvil. Los valores posibles son '2', '3', '4' y '5more' (5 o más).\n",
    "\n",
    "- **persons (Capacidad de personas):** representa la capacidad de personas que puede transportar el automóvil. Los valores posibles son '2', '4', 'more' (más de 4).\n",
    "\n",
    "- **lug_boot (Tamaño del maletero):** representa el tamaño del maletero del automóvil. Los valores posibles son 'small' (pequeño), 'med' (medio) y 'big' (grande).\n",
    "\n",
    "- **safety (Seguridad):** representa la calidad de seguridad del automóvil. Los valores posibles son 'low' (baja), 'med' (media) y 'high' (alta).\n",
    "\n",
    "- **Class (Evaluación de la calidad de los automóviles):**. Esta variable objetivo tiene cuatro posibles valores de clasificación: \"unacc\" (inaceptable), \"acc\" (aceptable), \"good\" (bueno) y \"vgood\" (muy bueno). "
   ]
  },
  {
   "attachments": {},
   "cell_type": "markdown",
   "metadata": {},
   "source": [
    "### Importar librerías"
   ]
  },
  {
   "cell_type": "code",
   "execution_count": 170,
   "metadata": {},
   "outputs": [],
   "source": [
    "import numpy as np\n",
    "import pandas as pd\n",
    "import matplotlib.pyplot as plt\n",
    "import seaborn as sns\n",
    "\n",
    "sns.set(style='whitegrid', context='notebook')"
   ]
  },
  {
   "attachments": {},
   "cell_type": "markdown",
   "metadata": {},
   "source": [
    "### Carga de datos\n"
   ]
  },
  {
   "cell_type": "code",
   "execution_count": 171,
   "metadata": {},
   "outputs": [],
   "source": [
    "df_car = pd.read_csv('https://archive.ics.uci.edu/ml/machine-learning-databases/car/car.data', header=None)\n",
    "\n",
    "columns_names = ['price','maint','doors','persons','lug_boot','safety','Class']\n",
    "\n",
    "df_car.columns = columns_names"
   ]
  },
  {
   "cell_type": "code",
   "execution_count": 172,
   "metadata": {},
   "outputs": [
    {
     "data": {
      "text/html": [
       "<div>\n",
       "<style scoped>\n",
       "    .dataframe tbody tr th:only-of-type {\n",
       "        vertical-align: middle;\n",
       "    }\n",
       "\n",
       "    .dataframe tbody tr th {\n",
       "        vertical-align: top;\n",
       "    }\n",
       "\n",
       "    .dataframe thead th {\n",
       "        text-align: right;\n",
       "    }\n",
       "</style>\n",
       "<table border=\"1\" class=\"dataframe\">\n",
       "  <thead>\n",
       "    <tr style=\"text-align: right;\">\n",
       "      <th></th>\n",
       "      <th>price</th>\n",
       "      <th>maint</th>\n",
       "      <th>doors</th>\n",
       "      <th>persons</th>\n",
       "      <th>lug_boot</th>\n",
       "      <th>safety</th>\n",
       "      <th>Class</th>\n",
       "    </tr>\n",
       "  </thead>\n",
       "  <tbody>\n",
       "    <tr>\n",
       "      <th>0</th>\n",
       "      <td>vhigh</td>\n",
       "      <td>vhigh</td>\n",
       "      <td>2</td>\n",
       "      <td>2</td>\n",
       "      <td>small</td>\n",
       "      <td>low</td>\n",
       "      <td>unacc</td>\n",
       "    </tr>\n",
       "    <tr>\n",
       "      <th>1</th>\n",
       "      <td>vhigh</td>\n",
       "      <td>vhigh</td>\n",
       "      <td>2</td>\n",
       "      <td>2</td>\n",
       "      <td>small</td>\n",
       "      <td>med</td>\n",
       "      <td>unacc</td>\n",
       "    </tr>\n",
       "    <tr>\n",
       "      <th>2</th>\n",
       "      <td>vhigh</td>\n",
       "      <td>vhigh</td>\n",
       "      <td>2</td>\n",
       "      <td>2</td>\n",
       "      <td>small</td>\n",
       "      <td>high</td>\n",
       "      <td>unacc</td>\n",
       "    </tr>\n",
       "    <tr>\n",
       "      <th>3</th>\n",
       "      <td>vhigh</td>\n",
       "      <td>vhigh</td>\n",
       "      <td>2</td>\n",
       "      <td>2</td>\n",
       "      <td>med</td>\n",
       "      <td>low</td>\n",
       "      <td>unacc</td>\n",
       "    </tr>\n",
       "    <tr>\n",
       "      <th>4</th>\n",
       "      <td>vhigh</td>\n",
       "      <td>vhigh</td>\n",
       "      <td>2</td>\n",
       "      <td>2</td>\n",
       "      <td>med</td>\n",
       "      <td>med</td>\n",
       "      <td>unacc</td>\n",
       "    </tr>\n",
       "  </tbody>\n",
       "</table>\n",
       "</div>"
      ],
      "text/plain": [
       "   price  maint doors persons lug_boot safety  Class\n",
       "0  vhigh  vhigh     2       2    small    low  unacc\n",
       "1  vhigh  vhigh     2       2    small    med  unacc\n",
       "2  vhigh  vhigh     2       2    small   high  unacc\n",
       "3  vhigh  vhigh     2       2      med    low  unacc\n",
       "4  vhigh  vhigh     2       2      med    med  unacc"
      ]
     },
     "execution_count": 172,
     "metadata": {},
     "output_type": "execute_result"
    }
   ],
   "source": [
    "# Visualizacion del DataFrame\n",
    "df_car.head()"
   ]
  },
  {
   "cell_type": "code",
   "execution_count": 173,
   "metadata": {},
   "outputs": [
    {
     "data": {
      "text/plain": [
       "(1728, 7)"
      ]
     },
     "execution_count": 173,
     "metadata": {},
     "output_type": "execute_result"
    }
   ],
   "source": [
    "# Visualizacion del shape del DF\n",
    "df_car.shape"
   ]
  },
  {
   "cell_type": "code",
   "execution_count": 174,
   "metadata": {},
   "outputs": [
    {
     "name": "stdout",
     "output_type": "stream",
     "text": [
      "<class 'pandas.core.frame.DataFrame'>\n",
      "RangeIndex: 1728 entries, 0 to 1727\n",
      "Data columns (total 7 columns):\n",
      " #   Column    Non-Null Count  Dtype \n",
      "---  ------    --------------  ----- \n",
      " 0   price     1728 non-null   object\n",
      " 1   maint     1728 non-null   object\n",
      " 2   doors     1728 non-null   object\n",
      " 3   persons   1728 non-null   object\n",
      " 4   lug_boot  1728 non-null   object\n",
      " 5   safety    1728 non-null   object\n",
      " 6   Class     1728 non-null   object\n",
      "dtypes: object(7)\n",
      "memory usage: 94.6+ KB\n"
     ]
    }
   ],
   "source": [
    "# Tipos de datos\n",
    "df_car.info()"
   ]
  },
  {
   "attachments": {},
   "cell_type": "markdown",
   "metadata": {},
   "source": [
    "- Hay 7 variables en el conjunto de datos, donde todas están clasificadas como datos categóricos. \n",
    "- La variable **Class** es el objetivo del análisis."
   ]
  },
  {
   "cell_type": "code",
   "execution_count": 175,
   "metadata": {},
   "outputs": [
    {
     "data": {
      "text/plain": [
       "price       0\n",
       "maint       0\n",
       "doors       0\n",
       "persons     0\n",
       "lug_boot    0\n",
       "safety      0\n",
       "Class       0\n",
       "dtype: int64"
      ]
     },
     "execution_count": 175,
     "metadata": {},
     "output_type": "execute_result"
    }
   ],
   "source": [
    "# Vereificamos valores missings\n",
    "df_car.isnull().sum()"
   ]
  },
  {
   "attachments": {},
   "cell_type": "markdown",
   "metadata": {},
   "source": [
    "## Data pre-processing"
   ]
  },
  {
   "attachments": {},
   "cell_type": "markdown",
   "metadata": {},
   "source": [
    "### Drop duplicates\n",
    "\n",
    "No hay datos duplicados en el dataset"
   ]
  },
  {
   "cell_type": "code",
   "execution_count": 176,
   "metadata": {},
   "outputs": [
    {
     "data": {
      "text/html": [
       "<div>\n",
       "<style scoped>\n",
       "    .dataframe tbody tr th:only-of-type {\n",
       "        vertical-align: middle;\n",
       "    }\n",
       "\n",
       "    .dataframe tbody tr th {\n",
       "        vertical-align: top;\n",
       "    }\n",
       "\n",
       "    .dataframe thead th {\n",
       "        text-align: right;\n",
       "    }\n",
       "</style>\n",
       "<table border=\"1\" class=\"dataframe\">\n",
       "  <thead>\n",
       "    <tr style=\"text-align: right;\">\n",
       "      <th></th>\n",
       "      <th>price</th>\n",
       "      <th>maint</th>\n",
       "      <th>doors</th>\n",
       "      <th>persons</th>\n",
       "      <th>lug_boot</th>\n",
       "      <th>safety</th>\n",
       "      <th>Class</th>\n",
       "    </tr>\n",
       "  </thead>\n",
       "  <tbody>\n",
       "    <tr>\n",
       "      <th>0</th>\n",
       "      <td>vhigh</td>\n",
       "      <td>vhigh</td>\n",
       "      <td>2</td>\n",
       "      <td>2</td>\n",
       "      <td>small</td>\n",
       "      <td>low</td>\n",
       "      <td>unacc</td>\n",
       "    </tr>\n",
       "    <tr>\n",
       "      <th>1</th>\n",
       "      <td>vhigh</td>\n",
       "      <td>vhigh</td>\n",
       "      <td>2</td>\n",
       "      <td>2</td>\n",
       "      <td>small</td>\n",
       "      <td>med</td>\n",
       "      <td>unacc</td>\n",
       "    </tr>\n",
       "    <tr>\n",
       "      <th>2</th>\n",
       "      <td>vhigh</td>\n",
       "      <td>vhigh</td>\n",
       "      <td>2</td>\n",
       "      <td>2</td>\n",
       "      <td>small</td>\n",
       "      <td>high</td>\n",
       "      <td>unacc</td>\n",
       "    </tr>\n",
       "    <tr>\n",
       "      <th>3</th>\n",
       "      <td>vhigh</td>\n",
       "      <td>vhigh</td>\n",
       "      <td>2</td>\n",
       "      <td>2</td>\n",
       "      <td>med</td>\n",
       "      <td>low</td>\n",
       "      <td>unacc</td>\n",
       "    </tr>\n",
       "    <tr>\n",
       "      <th>4</th>\n",
       "      <td>vhigh</td>\n",
       "      <td>vhigh</td>\n",
       "      <td>2</td>\n",
       "      <td>2</td>\n",
       "      <td>med</td>\n",
       "      <td>med</td>\n",
       "      <td>unacc</td>\n",
       "    </tr>\n",
       "    <tr>\n",
       "      <th>...</th>\n",
       "      <td>...</td>\n",
       "      <td>...</td>\n",
       "      <td>...</td>\n",
       "      <td>...</td>\n",
       "      <td>...</td>\n",
       "      <td>...</td>\n",
       "      <td>...</td>\n",
       "    </tr>\n",
       "    <tr>\n",
       "      <th>1723</th>\n",
       "      <td>low</td>\n",
       "      <td>low</td>\n",
       "      <td>5more</td>\n",
       "      <td>more</td>\n",
       "      <td>med</td>\n",
       "      <td>med</td>\n",
       "      <td>good</td>\n",
       "    </tr>\n",
       "    <tr>\n",
       "      <th>1724</th>\n",
       "      <td>low</td>\n",
       "      <td>low</td>\n",
       "      <td>5more</td>\n",
       "      <td>more</td>\n",
       "      <td>med</td>\n",
       "      <td>high</td>\n",
       "      <td>vgood</td>\n",
       "    </tr>\n",
       "    <tr>\n",
       "      <th>1725</th>\n",
       "      <td>low</td>\n",
       "      <td>low</td>\n",
       "      <td>5more</td>\n",
       "      <td>more</td>\n",
       "      <td>big</td>\n",
       "      <td>low</td>\n",
       "      <td>unacc</td>\n",
       "    </tr>\n",
       "    <tr>\n",
       "      <th>1726</th>\n",
       "      <td>low</td>\n",
       "      <td>low</td>\n",
       "      <td>5more</td>\n",
       "      <td>more</td>\n",
       "      <td>big</td>\n",
       "      <td>med</td>\n",
       "      <td>good</td>\n",
       "    </tr>\n",
       "    <tr>\n",
       "      <th>1727</th>\n",
       "      <td>low</td>\n",
       "      <td>low</td>\n",
       "      <td>5more</td>\n",
       "      <td>more</td>\n",
       "      <td>big</td>\n",
       "      <td>high</td>\n",
       "      <td>vgood</td>\n",
       "    </tr>\n",
       "  </tbody>\n",
       "</table>\n",
       "<p>1728 rows × 7 columns</p>\n",
       "</div>"
      ],
      "text/plain": [
       "      price  maint  doors persons lug_boot safety  Class\n",
       "0     vhigh  vhigh      2       2    small    low  unacc\n",
       "1     vhigh  vhigh      2       2    small    med  unacc\n",
       "2     vhigh  vhigh      2       2    small   high  unacc\n",
       "3     vhigh  vhigh      2       2      med    low  unacc\n",
       "4     vhigh  vhigh      2       2      med    med  unacc\n",
       "...     ...    ...    ...     ...      ...    ...    ...\n",
       "1723    low    low  5more    more      med    med   good\n",
       "1724    low    low  5more    more      med   high  vgood\n",
       "1725    low    low  5more    more      big    low  unacc\n",
       "1726    low    low  5more    more      big    med   good\n",
       "1727    low    low  5more    more      big   high  vgood\n",
       "\n",
       "[1728 rows x 7 columns]"
      ]
     },
     "execution_count": 176,
     "metadata": {},
     "output_type": "execute_result"
    }
   ],
   "source": [
    "df_car.drop_duplicates()"
   ]
  },
  {
   "attachments": {},
   "cell_type": "markdown",
   "metadata": {},
   "source": [
    "### Manejo de datos nulos\n",
    "\n",
    "No hay datos nulos en el dataset"
   ]
  },
  {
   "cell_type": "code",
   "execution_count": 177,
   "metadata": {},
   "outputs": [
    {
     "data": {
      "text/plain": [
       "price       0\n",
       "maint       0\n",
       "doors       0\n",
       "persons     0\n",
       "lug_boot    0\n",
       "safety      0\n",
       "Class       0\n",
       "dtype: int64"
      ]
     },
     "execution_count": 177,
     "metadata": {},
     "output_type": "execute_result"
    }
   ],
   "source": [
    "df_car.isnull().sum()"
   ]
  },
  {
   "attachments": {},
   "cell_type": "markdown",
   "metadata": {},
   "source": [
    "### Distribución de frecuencia y proprocion de las variables"
   ]
  },
  {
   "cell_type": "code",
   "execution_count": 178,
   "metadata": {},
   "outputs": [],
   "source": [
    "# Funcion conteo y proporcion de datos\n",
    "def dist(df,target):\n",
    "    count= df[target].value_counts(normalize=False)\n",
    "    prop = df[target].value_counts(normalize=True)\n",
    "\n",
    "    dist = pd.DataFrame({'Freq[N]':count,'Prop[%]':prop.round(3)})\n",
    "    return dist"
   ]
  },
  {
   "cell_type": "code",
   "execution_count": 179,
   "metadata": {},
   "outputs": [
    {
     "name": "stdout",
     "output_type": "stream",
     "text": [
      "        PRICE\n",
      "       Freq[N]  Prop[%]\n",
      "vhigh      432     0.25\n",
      "high       432     0.25\n",
      "med        432     0.25\n",
      "low        432     0.25\n",
      "***********************\n",
      "        MAINT\n",
      "       Freq[N]  Prop[%]\n",
      "vhigh      432     0.25\n",
      "high       432     0.25\n",
      "med        432     0.25\n",
      "low        432     0.25\n",
      "***********************\n",
      "        DOORS\n",
      "       Freq[N]  Prop[%]\n",
      "2          432     0.25\n",
      "3          432     0.25\n",
      "4          432     0.25\n",
      "5more      432     0.25\n",
      "***********************\n",
      "        PERSONS\n",
      "      Freq[N]  Prop[%]\n",
      "2         576    0.333\n",
      "4         576    0.333\n",
      "more      576    0.333\n",
      "***********************\n",
      "        LUG_BOOT\n",
      "       Freq[N]  Prop[%]\n",
      "small      576    0.333\n",
      "med        576    0.333\n",
      "big        576    0.333\n",
      "***********************\n",
      "        SAFETY\n",
      "      Freq[N]  Prop[%]\n",
      "low       576    0.333\n",
      "med       576    0.333\n",
      "high      576    0.333\n",
      "***********************\n",
      "        CLASS\n",
      "       Freq[N]  Prop[%]\n",
      "unacc     1210    0.700\n",
      "acc        384    0.222\n",
      "good        69    0.040\n",
      "vgood       65    0.038\n",
      "***********************\n"
     ]
    }
   ],
   "source": [
    "# Ver el conteo y la proporción de Class \n",
    "for i in columns_names:\n",
    "    print(' '*7,i.upper())\n",
    "    print(dist(df_car,i))\n",
    "    print(\"*\"*23)"
   ]
  },
  {
   "attachments": {},
   "cell_type": "markdown",
   "metadata": {},
   "source": [
    "## Análisis exploratorio de datos"
   ]
  },
  {
   "cell_type": "code",
   "execution_count": 180,
   "metadata": {},
   "outputs": [
    {
     "data": {
      "image/png": "[encoded data removed]",
      "text/plain": [
       "<Figure size 864x576 with 6 Axes>"
      ]
     },
     "metadata": {},
     "output_type": "display_data"
    }
   ],
   "source": [
    "# Graficamos la variable Class separada por los distintos atributos\n",
    "fig, axes = plt.subplots(nrows=2, ncols=3, figsize=(12, 8))\n",
    "\n",
    "for i, variable in enumerate(columns_names[:-1]):\n",
    "    row = i % 2\n",
    "    col = i // 2\n",
    "    sns.countplot(data=df_car, x='Class',hue=variable, ax=axes[row][col])\n",
    "    axes[row][col].set_title(f\"Evaluation Classes by {variable} Category\")\n",
    "\n",
    "plt.tight_layout()\n",
    "plt.show()"
   ]
  },
  {
   "attachments": {},
   "cell_type": "markdown",
   "metadata": {},
   "source": [
    "#### Insight\n",
    "\n",
    "- **Price:** Los autos con precio bajo o medio tienen una mayor probabilidad de ser clasificados como vgood o good en comparación con los autos de precio alto.\n",
    "\n",
    "- **Doors:** Los autos con 4 o más puertas tienen una mayor probabilidad de ser clasificados como vgood o good en comparación con los autos de 3 o 2 puertas.\n",
    "\n",
    "- **Lug_boot:** Los autos con maletero grande o mediano tienen una mayor probabilidad de ser clasificados como vgood o good en comparación con los autos con maletero pequeño.\n",
    "\n",
    "- **Maint:** Los autos con costos de mantenimiento bajos o medios tienen una mayor probabilidad de ser clasificados como vgood o good en comparación con los autos con costos de mantenimiento altos.\n",
    "\n",
    "- **Persons:** Los autos con capacidad de 4 o más personas tienen una mayor probabilidad de ser clasificados como vgood o good en comparación con los autos con capacidad de menos de 4 personas.\n",
    "\n",
    "- **Safety:** Los autos con alto nivel de seguridad tienen una mayor probabilidad de ser clasificados como vgood o good en comparación con los autos con bajo o medio nivel de seguridad."
   ]
  },
  {
   "attachments": {},
   "cell_type": "markdown",
   "metadata": {},
   "source": [
    "## Feature Engineering\n"
   ]
  },
  {
   "attachments": {},
   "cell_type": "markdown",
   "metadata": {},
   "source": [
    "### Undersampling"
   ]
  },
  {
   "cell_type": "code",
   "execution_count": 181,
   "metadata": {},
   "outputs": [],
   "source": [
    "from imblearn.under_sampling import RandomUnderSampler"
   ]
  },
  {
   "cell_type": "code",
   "execution_count": 182,
   "metadata": {},
   "outputs": [],
   "source": [
    "undersample = RandomUnderSampler(random_state=42)"
   ]
  },
  {
   "attachments": {},
   "cell_type": "markdown",
   "metadata": {},
   "source": [
    "### Declarando variables predictoras y variable objetivo"
   ]
  },
  {
   "cell_type": "code",
   "execution_count": 183,
   "metadata": {},
   "outputs": [],
   "source": [
    "# Separamos datos por X e Y\n",
    "X_car = df_car.drop('Class',axis=1)\n",
    "y_car = df_car.Class"
   ]
  },
  {
   "cell_type": "code",
   "execution_count": 184,
   "metadata": {},
   "outputs": [],
   "source": [
    "# Se realiza el undersampling\n",
    "X_car, y_car = undersample.fit_resample(X_car,y_car)"
   ]
  },
  {
   "attachments": {},
   "cell_type": "markdown",
   "metadata": {},
   "source": [
    "Codificación de las variables categóricas."
   ]
  },
  {
   "cell_type": "code",
   "execution_count": 185,
   "metadata": {},
   "outputs": [],
   "source": [
    "#!pip install category_encoders "
   ]
  },
  {
   "cell_type": "code",
   "execution_count": 186,
   "metadata": {},
   "outputs": [],
   "source": [
    "import category_encoders as ce\n",
    "\n",
    "encoder = ce.OrdinalEncoder(cols=columns_names[:-1])\n",
    "\n",
    "X_car = encoder.fit_transform(X_car)"
   ]
  },
  {
   "cell_type": "code",
   "execution_count": 187,
   "metadata": {},
   "outputs": [
    {
     "data": {
      "text/html": [
       "<div>\n",
       "<style scoped>\n",
       "    .dataframe tbody tr th:only-of-type {\n",
       "        vertical-align: middle;\n",
       "    }\n",
       "\n",
       "    .dataframe tbody tr th {\n",
       "        vertical-align: top;\n",
       "    }\n",
       "\n",
       "    .dataframe thead th {\n",
       "        text-align: right;\n",
       "    }\n",
       "</style>\n",
       "<table border=\"1\" class=\"dataframe\">\n",
       "  <thead>\n",
       "    <tr style=\"text-align: right;\">\n",
       "      <th></th>\n",
       "      <th>price</th>\n",
       "      <th>maint</th>\n",
       "      <th>doors</th>\n",
       "      <th>persons</th>\n",
       "      <th>lug_boot</th>\n",
       "      <th>safety</th>\n",
       "    </tr>\n",
       "  </thead>\n",
       "  <tbody>\n",
       "    <tr>\n",
       "      <th>0</th>\n",
       "      <td>1</td>\n",
       "      <td>1</td>\n",
       "      <td>1</td>\n",
       "      <td>1</td>\n",
       "      <td>1</td>\n",
       "      <td>1</td>\n",
       "    </tr>\n",
       "    <tr>\n",
       "      <th>1</th>\n",
       "      <td>1</td>\n",
       "      <td>2</td>\n",
       "      <td>2</td>\n",
       "      <td>1</td>\n",
       "      <td>1</td>\n",
       "      <td>1</td>\n",
       "    </tr>\n",
       "    <tr>\n",
       "      <th>2</th>\n",
       "      <td>2</td>\n",
       "      <td>2</td>\n",
       "      <td>3</td>\n",
       "      <td>1</td>\n",
       "      <td>1</td>\n",
       "      <td>1</td>\n",
       "    </tr>\n",
       "    <tr>\n",
       "      <th>3</th>\n",
       "      <td>2</td>\n",
       "      <td>2</td>\n",
       "      <td>4</td>\n",
       "      <td>2</td>\n",
       "      <td>2</td>\n",
       "      <td>2</td>\n",
       "    </tr>\n",
       "    <tr>\n",
       "      <th>4</th>\n",
       "      <td>3</td>\n",
       "      <td>3</td>\n",
       "      <td>3</td>\n",
       "      <td>2</td>\n",
       "      <td>1</td>\n",
       "      <td>2</td>\n",
       "    </tr>\n",
       "  </tbody>\n",
       "</table>\n",
       "</div>"
      ],
      "text/plain": [
       "   price  maint  doors  persons  lug_boot  safety\n",
       "0      1      1      1        1         1       1\n",
       "1      1      2      2        1         1       1\n",
       "2      2      2      3        1         1       1\n",
       "3      2      2      4        2         2       2\n",
       "4      3      3      3        2         1       2"
      ]
     },
     "execution_count": 187,
     "metadata": {},
     "output_type": "execute_result"
    }
   ],
   "source": [
    "X_car.head()"
   ]
  },
  {
   "cell_type": "code",
   "execution_count": 188,
   "metadata": {},
   "outputs": [
    {
     "data": {
      "text/plain": [
       "price       int64\n",
       "maint       int64\n",
       "doors       int64\n",
       "persons     int64\n",
       "lug_boot    int64\n",
       "safety      int64\n",
       "dtype: object"
      ]
     },
     "execution_count": 188,
     "metadata": {},
     "output_type": "execute_result"
    }
   ],
   "source": [
    "X_car.dtypes"
   ]
  },
  {
   "attachments": {},
   "cell_type": "markdown",
   "metadata": {},
   "source": [
    "### Split Data - Training and Testing"
   ]
  },
  {
   "cell_type": "code",
   "execution_count": 189,
   "metadata": {},
   "outputs": [],
   "source": [
    "from sklearn.model_selection import train_test_split\n",
    "\n",
    "X_train_car, X_test_car, y_train_car, y_test_car = train_test_split(X_car,y_car,test_size=0.3, random_state=42)"
   ]
  },
  {
   "cell_type": "code",
   "execution_count": 190,
   "metadata": {},
   "outputs": [
    {
     "name": "stdout",
     "output_type": "stream",
     "text": [
      "X: (182, 6) (78, 6)\n",
      "y: (182,) (78,)\n"
     ]
    }
   ],
   "source": [
    "print('X:',X_train_car.shape, X_test_car.shape)\n",
    "print('y:',y_train_car.shape, y_test_car.shape)"
   ]
  },
  {
   "attachments": {},
   "cell_type": "markdown",
   "metadata": {},
   "source": [
    "## Entrenamiento del modelo"
   ]
  },
  {
   "cell_type": "code",
   "execution_count": 191,
   "metadata": {},
   "outputs": [],
   "source": [
    "from sklearn.tree import DecisionTreeClassifier\n",
    "\n",
    "# Instancia del modelo\n",
    "tree_car = DecisionTreeClassifier(random_state=42)"
   ]
  },
  {
   "attachments": {},
   "cell_type": "markdown",
   "metadata": {},
   "source": [
    "### Optimización de parámetros"
   ]
  },
  {
   "cell_type": "code",
   "execution_count": 192,
   "metadata": {},
   "outputs": [],
   "source": [
    "from sklearn.model_selection import GridSearchCV\n",
    "\n",
    "# parametros del decision tree\n",
    "param_grid = {'criterion': ['gini', 'entropy'], 'max_depth': [2, 3, 4, 5]}\n"
   ]
  },
  {
   "cell_type": "code",
   "execution_count": 193,
   "metadata": {},
   "outputs": [
    {
     "name": "stdout",
     "output_type": "stream",
     "text": [
      "Mejores hiperparámetros encontrados:\n",
      "{'criterion': 'entropy', 'max_depth': 4}\n",
      "Mejor puntuación de validación cruzada:\n",
      "0.8026315789473685\n"
     ]
    }
   ],
   "source": [
    "# Realizar la búsqueda de hiperparámetros utilizando GridSearchCV\n",
    "grid_search = GridSearchCV(tree_car, param_grid=param_grid, cv=10, return_train_score=True)\n",
    "grid_search.fit(X_train_car, y_train_car)\n",
    "\n",
    "# Imprimir los resultados\n",
    "print(\"Mejores hiperparámetros encontrados:\")\n",
    "print(grid_search.best_params_)\n",
    "print(\"Mejor puntuación de validación cruzada:\")\n",
    "print(grid_search.best_score_)"
   ]
  },
  {
   "cell_type": "code",
   "execution_count": 194,
   "metadata": {},
   "outputs": [],
   "source": [
    "# Modelo decision tree con parametros optimizados\n",
    "best_tree_car = grid_search.best_estimator_"
   ]
  },
  {
   "cell_type": "code",
   "execution_count": 195,
   "metadata": {},
   "outputs": [],
   "source": [
    "# Predecimos Y\n",
    "y_train_pred_tree_car = best_tree_car.predict(X_train_car)\n",
    "y_test_pred_tree_car = best_tree_car.predict(X_test_car)"
   ]
  },
  {
   "attachments": {},
   "cell_type": "markdown",
   "metadata": {},
   "source": [
    "### Evaluacion del modelo"
   ]
  },
  {
   "cell_type": "code",
   "execution_count": 196,
   "metadata": {},
   "outputs": [],
   "source": [
    "from sklearn.metrics import accuracy_score, classification_report"
   ]
  },
  {
   "cell_type": "code",
   "execution_count": 197,
   "metadata": {},
   "outputs": [],
   "source": [
    "# Calculo el accuract en train \n",
    "train_acc = accuracy_score(y_true=y_test_car,y_pred=y_test_pred_tree_car)\n",
    "# Calculo el accuract en test \n",
    "test_acc  = accuracy_score(y_true=y_train_car,y_pred=y_train_pred_tree_car)"
   ]
  },
  {
   "cell_type": "code",
   "execution_count": 198,
   "metadata": {},
   "outputs": [
    {
     "name": "stdout",
     "output_type": "stream",
     "text": [
      "El accuracy en train es: 0.717948717948718\n",
      "El accuracy en test es: 0.8131868131868132\n"
     ]
    }
   ],
   "source": [
    "print(\"El accuracy en train es:\",train_acc)\n",
    "print(\"El accuracy en test es:\",test_acc)"
   ]
  },
  {
   "attachments": {},
   "cell_type": "markdown",
   "metadata": {},
   "source": [
    "La precisión en los conjuntos de datos de entrenamiento y prueba están muy cercanas, lo que sugiere que el modelo no está sufriendo de sobreajuste."
   ]
  },
  {
   "cell_type": "code",
   "execution_count": 199,
   "metadata": {},
   "outputs": [
    {
     "name": "stdout",
     "output_type": "stream",
     "text": [
      "              precision    recall  f1-score   support\n",
      "\n",
      "         acc       0.77      0.62      0.69        16\n",
      "        good       0.65      0.48      0.55        23\n",
      "       unacc       1.00      0.80      0.89        20\n",
      "       vgood       0.59      1.00      0.75        19\n",
      "\n",
      "    accuracy                           0.72        78\n",
      "   macro avg       0.75      0.73      0.72        78\n",
      "weighted avg       0.75      0.72      0.71        78\n",
      "\n"
     ]
    }
   ],
   "source": [
    "print(classification_report(y_test_car,y_test_pred_tree_car))"
   ]
  },
  {
   "attachments": {},
   "cell_type": "markdown",
   "metadata": {},
   "source": [
    "Podemos observar que el **f1-score de la clase 'good' es relativamente bajo**, mientras que el **f1-score de 'unacc' es alto**. Esto sugiere que el modelo tiene dificultades para clasificar correctamente las clase 'good'. Por otro lado, el **f1-score de 'acc' y 'vgood' es promedio**. \n",
    "\n",
    "**El f1-score promedio general es de 0.72**, lo cual indica que el modelo tiene un buen rendimiento general en la clasificación de las distintas clases."
   ]
  },
  {
   "cell_type": "code",
   "execution_count": 200,
   "metadata": {},
   "outputs": [
    {
     "name": "stderr",
     "output_type": "stream",
     "text": [
      "/home/mazzaroli/anaconda3/lib/python3.9/site-packages/seaborn/categorical.py:82: FutureWarning: iteritems is deprecated and will be removed in a future version. Use .items instead.\n",
      "  plot_data = [np.asarray(s, float) for k, s in iter_data]\n"
     ]
    },
    {
     "data": {
      "image/png": "[encoded data removed]",
      "text/plain": [
       "<Figure size 864x432 with 1 Axes>"
      ]
     },
     "metadata": {},
     "output_type": "display_data"
    },
    {
     "data": {
      "text/html": [
       "<div>\n",
       "<style scoped>\n",
       "    .dataframe tbody tr th:only-of-type {\n",
       "        vertical-align: middle;\n",
       "    }\n",
       "\n",
       "    .dataframe tbody tr th {\n",
       "        vertical-align: top;\n",
       "    }\n",
       "\n",
       "    .dataframe thead th {\n",
       "        text-align: right;\n",
       "    }\n",
       "</style>\n",
       "<table border=\"1\" class=\"dataframe\">\n",
       "  <thead>\n",
       "    <tr style=\"text-align: right;\">\n",
       "      <th></th>\n",
       "      <th>0</th>\n",
       "    </tr>\n",
       "  </thead>\n",
       "  <tbody>\n",
       "    <tr>\n",
       "      <th>safety</th>\n",
       "      <td>0.333983</td>\n",
       "    </tr>\n",
       "    <tr>\n",
       "      <th>price</th>\n",
       "      <td>0.327521</td>\n",
       "    </tr>\n",
       "    <tr>\n",
       "      <th>maint</th>\n",
       "      <td>0.182004</td>\n",
       "    </tr>\n",
       "    <tr>\n",
       "      <th>persons</th>\n",
       "      <td>0.156493</td>\n",
       "    </tr>\n",
       "    <tr>\n",
       "      <th>doors</th>\n",
       "      <td>0.000000</td>\n",
       "    </tr>\n",
       "    <tr>\n",
       "      <th>lug_boot</th>\n",
       "      <td>0.000000</td>\n",
       "    </tr>\n",
       "  </tbody>\n",
       "</table>\n",
       "</div>"
      ],
      "text/plain": [
       "                 0\n",
       "safety    0.333983\n",
       "price     0.327521\n",
       "maint     0.182004\n",
       "persons   0.156493\n",
       "doors     0.000000\n",
       "lug_boot  0.000000"
      ]
     },
     "execution_count": 200,
     "metadata": {},
     "output_type": "execute_result"
    }
   ],
   "source": [
    "feature_scores_car = pd.DataFrame(pd.Series(best_tree_car.feature_importances_, index=X_train_car.columns).sort_values(ascending=False)).T\n",
    "plt.figure(figsize=(12,6))\n",
    "sns.barplot(data=feature_scores_car)\n",
    "\n",
    "for index, value in enumerate(feature_scores_car.values.flatten()):\n",
    "    plt.annotate(f'{value:.2f}', xy=(index, value), ha='center', va='bottom')\n",
    "\n",
    "\n",
    "plt.title(\"Factores clave en la predicción de la calidad de un automovil\")\n",
    "plt.show()\n",
    "pd.DataFrame(feature_scores_car.T)"
   ]
  },
  {
   "attachments": {},
   "cell_type": "markdown",
   "metadata": {},
   "source": [
    "El **precio** y el **mantenimiento** de un automóvil son factores cruciales en la determinación de su clasificación. "
   ]
  },
  {
   "cell_type": "code",
   "execution_count": 201,
   "metadata": {},
   "outputs": [
    {
     "data": {
      "image/png": "[encoded data removed]",
      "text/plain": [
       "<Figure size 864x576 with 1 Axes>"
      ]
     },
     "metadata": {},
     "output_type": "display_data"
    }
   ],
   "source": [
    "plt.figure(figsize = (12,8))\n",
    "from sklearn import tree\n",
    "\n",
    "tree.plot_tree(best_tree_car.fit(X_train_car, y_train_car));"
   ]
  },
  {
   "attachments": {},
   "cell_type": "markdown",
   "metadata": {},
   "source": [
    "# Introducción a random forest\n",
    "\n",
    "\n",
    "## ¿Qué es un bosque aleatorio o random forest?\n",
    "\n",
    "Random Forest es un **algoritmo de aprendizaje automático de ensamble** que combina múltiples árboles de decisión para producir una predicción más **precisa y robusta.** Es una técnica popular y poderosa en el campo del machine learning para tareas de **clasificación y regresión.**\n",
    "\n",
    "### ¿Qué es un algoritmo de ensamble?\n",
    "\n",
    "El término **\"ensamble\"** se refiere a la idea de **combinar múltiples modelos de aprendizaje para mejorar la precisión y la estabilidad.** En el caso de Random Forest, cada modelo en el ensamble es un árbol de decisión, y el conjunto completo de árboles se llama bosque.\n",
    "\n",
    "### ¿Como se construye un bosque aleatorio?\n",
    "\n",
    "El proceso de construcción de un bosque aleatorio comienza seleccionando una muestra aleatoria de los datos de entrenamiento para cada árbol de decisión. En cada árbol, se selecciona un **subconjunto aleatorio de características** de las muestras y se utiliza para entrenar el modelo. Esto se conoce como **\"muestreo de características\"** o **\"bagging\".**\n",
    "\n",
    "La idea detrás del muestreo de características es **reducir la correlación entre los árboles de decisión.** Al seleccionar solo un subconjunto de características en cada árbol, se reduce la probabilidad de que los mismos predictores se utilicen en cada árbol y se mejora la capacidad del bosque para generalizar a nuevos datos.\n",
    "\n",
    "Una vez que se han entrenado todos los árboles de decisión, se combina su salida para hacer una predicción final. En el caso de la clasificación, la predicción final es la clase que obtiene la mayoría de los votos de los árboles de decisión. En la regresión, la predicción final es el promedio de las predicciones de cada árbol."
   ]
  },
  {
   "attachments": {},
   "cell_type": "markdown",
   "metadata": {},
   "source": [
    "### Problemas de overfitting\n",
    "\n",
    "\n",
    "**El sobreajuste (overfitting)** es un problema común en los modelos de Random Forest, así como en otros algoritmos de aprendizaje automático. Ocurre cuando **el modelo se ajusta demasiado a los datos de entrenamiento y captura patrones específicos de ese conjunto de datos en lugar de generalizar para nuevos datos.**\n",
    "\n",
    "El Random Forest puede ser propenso al sobreajuste debido a la **alta complejidad del modelo.** Al construir múltiples árboles de decisión en paralelo y combinar sus predicciones, **el Random Forest tiene una capacidad inherente para adaptarse y capturar los detalles más finos en los datos de entrenamiento.**\n",
    "\n",
    "Cuando el modelo se sobreajusta, puede resultar en un **rendimiento deficiente en datos no vistos**, como el conjunto de prueba o nuevos datos en producción. El modelo **se vuelve demasiado sensible a las peculiaridades y el ruido del conjunto de entrenamiento**, lo que dificulta su capacidad para **generalizar correctamente**.\n",
    "\n",
    "Para mitigar el sobreajuste en Random Forest, se pueden utilizar diversas estrategias, como:\n",
    "\n",
    "\n",
    "- **Regularización:** Ajustar los parámetros de regularización del modelo, como el número máximo de características consideradas en cada división del árbol o el número mínimo de muestras requeridas para crear un nodo.\n",
    "\n",
    "- **Validación cruzada:** Utilizar técnicas de validación cruzada para evaluar el rendimiento del modelo en diferentes conjuntos de entrenamiento y prueba. Esto ayuda a detectar si el modelo está sobreajustado y permite ajustar los parámetros en consecuencia.\n",
    "\n",
    "- **Reducción de características:** Eliminar características irrelevantes o redundantes del conjunto de datos para reducir la complejidad y evitar el sobreajuste.\n",
    "\n",
    "- **Aumento de datos:** Generar datos sintéticos o aumentar la cantidad de datos de entrenamiento mediante técnicas como la interpolación o la rotación, lo que puede ayudar a mejorar la generalización del modelo."
   ]
  },
  {
   "attachments": {},
   "cell_type": "markdown",
   "metadata": {},
   "source": [
    "## ¿Cuándo utilizar random forest?\n",
    "\n",
    "### Ventajas\n",
    "\n",
    "- **Funciona bien incluso sin ajuste de hiperparámetros:** A diferencia de otros algoritmos, un Random Forest suele ofrecer buenos resultados incluso con los valores predeterminados de hiperparámetros. Esto significa que no siempre es necesario ajustarlos de forma exhaustiva para obtener un modelo decente.\n",
    "\n",
    "- **Reduce el riesgo de sobreajuste (overfitting):** Al combinar múltiples árboles de decisión, el Random Forest disminuye la probabilidad de sobreajustar el modelo a los datos de entrenamiento, mejorando así su capacidad de generalización.\n",
    "\n",
    "- **Estabilidad frente a nuevas muestras de datos:**  El modelo del Random Forest tiende a ser estable y mantiene un buen rendimiento al enfrentar nuevos conjuntos de datos. La combinación de predicciones de varios árboles reduce el impacto de datos atípicos y ruido, lo que lo hace robusto frente a la variación de los datos de entrada.\n",
    "\n",
    "### Desventajas\n",
    "\n",
    "- **Es más costoso en términos de creación y ejecución que un solo árbol de decisión:** Un Random Forest está compuesto por múltiples árboles de decisión, lo que implica un mayor costo computacional tanto en tiempo de entrenamiento como en memoria requerida durante la ejecución. En comparación con un solo árbol de decisión, el Random Forest puede ser más exigente en recursos.\n",
    "\n",
    "- **No funciona bien con conjuntos de datos pequeños:** El Random Forest requiere una cantidad suficiente de datos para obtener resultados confiables. En conjuntos de datos pequeños, hay un mayor riesgo de sobreajuste o de no aprovechar completamente la capacidad de generalización del algoritmo.\n",
    "\n",
    "- **Puede requerir mucho tiempo de entrenamiento:** Debido a que el Random Forest se compone de múltiples árboles de decisión, el proceso de entrenamiento puede llevar más tiempo en comparación con un solo árbol de decisión. Cada árbol se entrena de forma independiente, lo que puede resultar en un tiempo total de entrenamiento prolongado, especialmente si se utilizan conjuntos de datos grandes o se requiere una alta precisión.\n",
    "\n",
    "- **La interpretación a veces se vuelve compleja:** A medida que aumenta el número de árboles en el bosque, la interpretación del modelo se vuelve más desafiante. Determinar la importancia de las características o entender las relaciones entre las variables puede requerir técnicas adicionales y análisis más profundos.\n",
    "\n",
    "## ¿Cuándo usar random forest?\n",
    "\n",
    "\n",
    "- **Rápido y fácil de aplicar:** Es relativamente fácil de implementar y utilizar. Como con scikit-learn en Python, es rápido de aplicar en diferentes conjuntos de datos sin requerir una configuración exhaustiva.\n",
    "\n",
    "- **Técnicas de hyperparameter tuning:** El Random Forest se beneficia de la aplicación de técnicas de ajuste de hiperparámetros, como grid search o búsqueda aleatoria, para encontrar la mejor combinación de configuraciones del modelo.\n",
    "\n",
    "- **Problemas de clasificación y regresión:** El Random Forest es adecuado tanto para problemas de clasificación como de regresión. Puede manejar múltiples clases en problemas de clasificación y proporcionar predicciones numéricas en problemas de regresión.\n",
    "\n",
    "- **Conjuntos de datos grandes:** El Random Forest es especialmente efectivo cuando se trabaja con conjuntos de datos grandes. Con más datos disponibles, los árboles individuales del Random Forest pueden aprender patrones más complejos y realizar predicciones más precisas."
   ]
  },
  {
   "attachments": {},
   "cell_type": "markdown",
   "metadata": {},
   "source": [
    "## Tu primer random forest con scikit-learn\n",
    "\n",
    "Utilizaremos el dataset **Pima indians diabetes** de Kaggle: https://www.kaggle.com/datasets/kumargh/pimaindiansdiabetescsv"
   ]
  },
  {
   "attachments": {},
   "cell_type": "markdown",
   "metadata": {},
   "source": [
    "### Conociendo nuestro dataset\n",
    "\n",
    "El conjunto de datos contiene información médica de mujeres Pima Indian de Arizona, Estados Unidos, que participaron en un estudio de la diabetes en la década de 1980.\n",
    "\n",
    "El conjunto de datos consta de **768 instancias** y **9 atributos**, incluyendo el número de veces que una mujer ha estado embarazada, su edad, presión arterial diastólica, índice de masa corporal, concentración de glucosa en plasma y la presencia o ausencia de diabetes en la prueba.\n",
    "\n",
    "### Atributos\n",
    "\n",
    "1. **preg**: Número de veces embarazada\n",
    "1. **plas**: Concentración de glucosa en plasma a las 2 horas en una prueba de tolerancia a la glucosa oral\n",
    "1. **pres**: Presión arterial diastólica (mm Hg)\n",
    "1. **skin**: Grosor del pliegue cutáneo tricipital (mm)\n",
    "1. **test**: Concentración de insulina en suero a las 2 horas (mu U/ml)\n",
    "1. **mass**: Índice de masa corporal (peso en kg/(altura en m)^2)\n",
    "1. **pedi**: Función de diabetes basada en antecedentes familiares\n",
    "1. **age**: Edad (años)\n",
    "1. **class**: Variable de clase (1: positivo para diabetes, 0: negativo para diabetes en la prueba)"
   ]
  },
  {
   "attachments": {},
   "cell_type": "markdown",
   "metadata": {},
   "source": [
    "### Importar librerías"
   ]
  },
  {
   "cell_type": "code",
   "execution_count": 202,
   "metadata": {},
   "outputs": [],
   "source": [
    "import numpy as np\n",
    "import pandas as pd\n",
    "import matplotlib.pyplot as plt\n",
    "import seaborn as sns\n",
    "\n",
    "sns.set(style='whitegrid', context='notebook')"
   ]
  },
  {
   "attachments": {},
   "cell_type": "markdown",
   "metadata": {},
   "source": [
    "### Carga de datos"
   ]
  },
  {
   "cell_type": "code",
   "execution_count": 203,
   "metadata": {},
   "outputs": [],
   "source": [
    "df_diabetes = pd.read_csv('pima-indians-diabetes.csv', header=None, sep=',')\n",
    "\n",
    "df_columns = np.array(['preg','plas', 'pres', 'skin', 'test', 'mass', 'pedi', 'age', 'Class'])\n",
    "\n",
    "df_diabetes.columns = df_columns"
   ]
  },
  {
   "cell_type": "code",
   "execution_count": 204,
   "metadata": {},
   "outputs": [
    {
     "data": {
      "text/html": [
       "<div>\n",
       "<style scoped>\n",
       "    .dataframe tbody tr th:only-of-type {\n",
       "        vertical-align: middle;\n",
       "    }\n",
       "\n",
       "    .dataframe tbody tr th {\n",
       "        vertical-align: top;\n",
       "    }\n",
       "\n",
       "    .dataframe thead th {\n",
       "        text-align: right;\n",
       "    }\n",
       "</style>\n",
       "<table border=\"1\" class=\"dataframe\">\n",
       "  <thead>\n",
       "    <tr style=\"text-align: right;\">\n",
       "      <th></th>\n",
       "      <th>preg</th>\n",
       "      <th>plas</th>\n",
       "      <th>pres</th>\n",
       "      <th>skin</th>\n",
       "      <th>test</th>\n",
       "      <th>mass</th>\n",
       "      <th>pedi</th>\n",
       "      <th>age</th>\n",
       "      <th>Class</th>\n",
       "    </tr>\n",
       "  </thead>\n",
       "  <tbody>\n",
       "    <tr>\n",
       "      <th>0</th>\n",
       "      <td>6</td>\n",
       "      <td>148</td>\n",
       "      <td>72</td>\n",
       "      <td>35</td>\n",
       "      <td>0</td>\n",
       "      <td>33.6</td>\n",
       "      <td>0.627</td>\n",
       "      <td>50</td>\n",
       "      <td>1</td>\n",
       "    </tr>\n",
       "    <tr>\n",
       "      <th>1</th>\n",
       "      <td>1</td>\n",
       "      <td>85</td>\n",
       "      <td>66</td>\n",
       "      <td>29</td>\n",
       "      <td>0</td>\n",
       "      <td>26.6</td>\n",
       "      <td>0.351</td>\n",
       "      <td>31</td>\n",
       "      <td>0</td>\n",
       "    </tr>\n",
       "    <tr>\n",
       "      <th>2</th>\n",
       "      <td>8</td>\n",
       "      <td>183</td>\n",
       "      <td>64</td>\n",
       "      <td>0</td>\n",
       "      <td>0</td>\n",
       "      <td>23.3</td>\n",
       "      <td>0.672</td>\n",
       "      <td>32</td>\n",
       "      <td>1</td>\n",
       "    </tr>\n",
       "    <tr>\n",
       "      <th>3</th>\n",
       "      <td>1</td>\n",
       "      <td>89</td>\n",
       "      <td>66</td>\n",
       "      <td>23</td>\n",
       "      <td>94</td>\n",
       "      <td>28.1</td>\n",
       "      <td>0.167</td>\n",
       "      <td>21</td>\n",
       "      <td>0</td>\n",
       "    </tr>\n",
       "    <tr>\n",
       "      <th>4</th>\n",
       "      <td>0</td>\n",
       "      <td>137</td>\n",
       "      <td>40</td>\n",
       "      <td>35</td>\n",
       "      <td>168</td>\n",
       "      <td>43.1</td>\n",
       "      <td>2.288</td>\n",
       "      <td>33</td>\n",
       "      <td>1</td>\n",
       "    </tr>\n",
       "  </tbody>\n",
       "</table>\n",
       "</div>"
      ],
      "text/plain": [
       "   preg  plas  pres  skin  test  mass   pedi  age  Class\n",
       "0     6   148    72    35     0  33.6  0.627   50      1\n",
       "1     1    85    66    29     0  26.6  0.351   31      0\n",
       "2     8   183    64     0     0  23.3  0.672   32      1\n",
       "3     1    89    66    23    94  28.1  0.167   21      0\n",
       "4     0   137    40    35   168  43.1  2.288   33      1"
      ]
     },
     "execution_count": 204,
     "metadata": {},
     "output_type": "execute_result"
    }
   ],
   "source": [
    "# Visualizacion del DataFrame\n",
    "df_diabetes.head()"
   ]
  },
  {
   "cell_type": "code",
   "execution_count": 205,
   "metadata": {},
   "outputs": [
    {
     "data": {
      "text/plain": [
       "(768, 9)"
      ]
     },
     "execution_count": 205,
     "metadata": {},
     "output_type": "execute_result"
    }
   ],
   "source": [
    "# Visualizacion del shape del DF\n",
    "df_diabetes.shape"
   ]
  },
  {
   "cell_type": "code",
   "execution_count": 206,
   "metadata": {},
   "outputs": [
    {
     "name": "stdout",
     "output_type": "stream",
     "text": [
      "<class 'pandas.core.frame.DataFrame'>\n",
      "RangeIndex: 768 entries, 0 to 767\n",
      "Data columns (total 9 columns):\n",
      " #   Column  Non-Null Count  Dtype  \n",
      "---  ------  --------------  -----  \n",
      " 0   preg    768 non-null    int64  \n",
      " 1   plas    768 non-null    int64  \n",
      " 2   pres    768 non-null    int64  \n",
      " 3   skin    768 non-null    int64  \n",
      " 4   test    768 non-null    int64  \n",
      " 5   mass    768 non-null    float64\n",
      " 6   pedi    768 non-null    float64\n",
      " 7   age     768 non-null    int64  \n",
      " 8   Class   768 non-null    int64  \n",
      "dtypes: float64(2), int64(7)\n",
      "memory usage: 54.1 KB\n"
     ]
    }
   ],
   "source": [
    "# Tipos de datos\n",
    "df_diabetes.info()"
   ]
  },
  {
   "attachments": {},
   "cell_type": "markdown",
   "metadata": {},
   "source": [
    "Todos los datos son de tipo numerico"
   ]
  },
  {
   "attachments": {},
   "cell_type": "markdown",
   "metadata": {},
   "source": [
    "### Data pre-processing\n",
    "#### Drop duplicates"
   ]
  },
  {
   "cell_type": "code",
   "execution_count": 207,
   "metadata": {},
   "outputs": [
    {
     "data": {
      "text/html": [
       "<div>\n",
       "<style scoped>\n",
       "    .dataframe tbody tr th:only-of-type {\n",
       "        vertical-align: middle;\n",
       "    }\n",
       "\n",
       "    .dataframe tbody tr th {\n",
       "        vertical-align: top;\n",
       "    }\n",
       "\n",
       "    .dataframe thead th {\n",
       "        text-align: right;\n",
       "    }\n",
       "</style>\n",
       "<table border=\"1\" class=\"dataframe\">\n",
       "  <thead>\n",
       "    <tr style=\"text-align: right;\">\n",
       "      <th></th>\n",
       "      <th>preg</th>\n",
       "      <th>plas</th>\n",
       "      <th>pres</th>\n",
       "      <th>skin</th>\n",
       "      <th>test</th>\n",
       "      <th>mass</th>\n",
       "      <th>pedi</th>\n",
       "      <th>age</th>\n",
       "      <th>Class</th>\n",
       "    </tr>\n",
       "  </thead>\n",
       "  <tbody>\n",
       "    <tr>\n",
       "      <th>0</th>\n",
       "      <td>6</td>\n",
       "      <td>148</td>\n",
       "      <td>72</td>\n",
       "      <td>35</td>\n",
       "      <td>0</td>\n",
       "      <td>33.6</td>\n",
       "      <td>0.627</td>\n",
       "      <td>50</td>\n",
       "      <td>1</td>\n",
       "    </tr>\n",
       "    <tr>\n",
       "      <th>1</th>\n",
       "      <td>1</td>\n",
       "      <td>85</td>\n",
       "      <td>66</td>\n",
       "      <td>29</td>\n",
       "      <td>0</td>\n",
       "      <td>26.6</td>\n",
       "      <td>0.351</td>\n",
       "      <td>31</td>\n",
       "      <td>0</td>\n",
       "    </tr>\n",
       "    <tr>\n",
       "      <th>2</th>\n",
       "      <td>8</td>\n",
       "      <td>183</td>\n",
       "      <td>64</td>\n",
       "      <td>0</td>\n",
       "      <td>0</td>\n",
       "      <td>23.3</td>\n",
       "      <td>0.672</td>\n",
       "      <td>32</td>\n",
       "      <td>1</td>\n",
       "    </tr>\n",
       "    <tr>\n",
       "      <th>3</th>\n",
       "      <td>1</td>\n",
       "      <td>89</td>\n",
       "      <td>66</td>\n",
       "      <td>23</td>\n",
       "      <td>94</td>\n",
       "      <td>28.1</td>\n",
       "      <td>0.167</td>\n",
       "      <td>21</td>\n",
       "      <td>0</td>\n",
       "    </tr>\n",
       "    <tr>\n",
       "      <th>4</th>\n",
       "      <td>0</td>\n",
       "      <td>137</td>\n",
       "      <td>40</td>\n",
       "      <td>35</td>\n",
       "      <td>168</td>\n",
       "      <td>43.1</td>\n",
       "      <td>2.288</td>\n",
       "      <td>33</td>\n",
       "      <td>1</td>\n",
       "    </tr>\n",
       "    <tr>\n",
       "      <th>...</th>\n",
       "      <td>...</td>\n",
       "      <td>...</td>\n",
       "      <td>...</td>\n",
       "      <td>...</td>\n",
       "      <td>...</td>\n",
       "      <td>...</td>\n",
       "      <td>...</td>\n",
       "      <td>...</td>\n",
       "      <td>...</td>\n",
       "    </tr>\n",
       "    <tr>\n",
       "      <th>763</th>\n",
       "      <td>10</td>\n",
       "      <td>101</td>\n",
       "      <td>76</td>\n",
       "      <td>48</td>\n",
       "      <td>180</td>\n",
       "      <td>32.9</td>\n",
       "      <td>0.171</td>\n",
       "      <td>63</td>\n",
       "      <td>0</td>\n",
       "    </tr>\n",
       "    <tr>\n",
       "      <th>764</th>\n",
       "      <td>2</td>\n",
       "      <td>122</td>\n",
       "      <td>70</td>\n",
       "      <td>27</td>\n",
       "      <td>0</td>\n",
       "      <td>36.8</td>\n",
       "      <td>0.340</td>\n",
       "      <td>27</td>\n",
       "      <td>0</td>\n",
       "    </tr>\n",
       "    <tr>\n",
       "      <th>765</th>\n",
       "      <td>5</td>\n",
       "      <td>121</td>\n",
       "      <td>72</td>\n",
       "      <td>23</td>\n",
       "      <td>112</td>\n",
       "      <td>26.2</td>\n",
       "      <td>0.245</td>\n",
       "      <td>30</td>\n",
       "      <td>0</td>\n",
       "    </tr>\n",
       "    <tr>\n",
       "      <th>766</th>\n",
       "      <td>1</td>\n",
       "      <td>126</td>\n",
       "      <td>60</td>\n",
       "      <td>0</td>\n",
       "      <td>0</td>\n",
       "      <td>30.1</td>\n",
       "      <td>0.349</td>\n",
       "      <td>47</td>\n",
       "      <td>1</td>\n",
       "    </tr>\n",
       "    <tr>\n",
       "      <th>767</th>\n",
       "      <td>1</td>\n",
       "      <td>93</td>\n",
       "      <td>70</td>\n",
       "      <td>31</td>\n",
       "      <td>0</td>\n",
       "      <td>30.4</td>\n",
       "      <td>0.315</td>\n",
       "      <td>23</td>\n",
       "      <td>0</td>\n",
       "    </tr>\n",
       "  </tbody>\n",
       "</table>\n",
       "<p>768 rows × 9 columns</p>\n",
       "</div>"
      ],
      "text/plain": [
       "     preg  plas  pres  skin  test  mass   pedi  age  Class\n",
       "0       6   148    72    35     0  33.6  0.627   50      1\n",
       "1       1    85    66    29     0  26.6  0.351   31      0\n",
       "2       8   183    64     0     0  23.3  0.672   32      1\n",
       "3       1    89    66    23    94  28.1  0.167   21      0\n",
       "4       0   137    40    35   168  43.1  2.288   33      1\n",
       "..    ...   ...   ...   ...   ...   ...    ...  ...    ...\n",
       "763    10   101    76    48   180  32.9  0.171   63      0\n",
       "764     2   122    70    27     0  36.8  0.340   27      0\n",
       "765     5   121    72    23   112  26.2  0.245   30      0\n",
       "766     1   126    60     0     0  30.1  0.349   47      1\n",
       "767     1    93    70    31     0  30.4  0.315   23      0\n",
       "\n",
       "[768 rows x 9 columns]"
      ]
     },
     "execution_count": 207,
     "metadata": {},
     "output_type": "execute_result"
    }
   ],
   "source": [
    "# No hay datos duplicados en el dataset\n",
    "df_diabetes.drop_duplicates(inplace=True)\n",
    "df_diabetes"
   ]
  },
  {
   "attachments": {},
   "cell_type": "markdown",
   "metadata": {},
   "source": [
    "### EDA"
   ]
  },
  {
   "attachments": {},
   "cell_type": "markdown",
   "metadata": {},
   "source": [
    "#### Manejo de datos nulos"
   ]
  },
  {
   "cell_type": "code",
   "execution_count": 208,
   "metadata": {},
   "outputs": [
    {
     "data": {
      "image/png": "[encoded data removed]",
      "text/plain": [
       "<Figure size 1800x720 with 2 Axes>"
      ]
     },
     "metadata": {},
     "output_type": "display_data"
    }
   ],
   "source": [
    "import missingno as miss\n",
    "\n",
    "miss.matrix(df_diabetes);"
   ]
  },
  {
   "attachments": {},
   "cell_type": "markdown",
   "metadata": {},
   "source": [
    "No hay datos nulos"
   ]
  },
  {
   "attachments": {},
   "cell_type": "markdown",
   "metadata": {},
   "source": [
    "#### Variables con datos perdidos"
   ]
  },
  {
   "cell_type": "code",
   "execution_count": 209,
   "metadata": {},
   "outputs": [
    {
     "data": {
      "text/html": [
       "<div>\n",
       "<style scoped>\n",
       "    .dataframe tbody tr th:only-of-type {\n",
       "        vertical-align: middle;\n",
       "    }\n",
       "\n",
       "    .dataframe tbody tr th {\n",
       "        vertical-align: top;\n",
       "    }\n",
       "\n",
       "    .dataframe thead th {\n",
       "        text-align: right;\n",
       "    }\n",
       "</style>\n",
       "<table border=\"1\" class=\"dataframe\">\n",
       "  <thead>\n",
       "    <tr style=\"text-align: right;\">\n",
       "      <th></th>\n",
       "      <th>variable</th>\n",
       "      <th>missing_values</th>\n",
       "      <th>percentage</th>\n",
       "    </tr>\n",
       "  </thead>\n",
       "  <tbody>\n",
       "    <tr>\n",
       "      <th>0</th>\n",
       "      <td>plas</td>\n",
       "      <td>5</td>\n",
       "      <td>0.651042</td>\n",
       "    </tr>\n",
       "    <tr>\n",
       "      <th>1</th>\n",
       "      <td>pres</td>\n",
       "      <td>35</td>\n",
       "      <td>4.557292</td>\n",
       "    </tr>\n",
       "    <tr>\n",
       "      <th>2</th>\n",
       "      <td>skin</td>\n",
       "      <td>227</td>\n",
       "      <td>29.557292</td>\n",
       "    </tr>\n",
       "    <tr>\n",
       "      <th>3</th>\n",
       "      <td>test</td>\n",
       "      <td>374</td>\n",
       "      <td>48.697917</td>\n",
       "    </tr>\n",
       "    <tr>\n",
       "      <th>4</th>\n",
       "      <td>mass</td>\n",
       "      <td>11</td>\n",
       "      <td>1.432292</td>\n",
       "    </tr>\n",
       "  </tbody>\n",
       "</table>\n",
       "</div>"
      ],
      "text/plain": [
       "  variable  missing_values  percentage\n",
       "0     plas               5    0.651042\n",
       "1     pres              35    4.557292\n",
       "2     skin             227   29.557292\n",
       "3     test             374   48.697917\n",
       "4     mass              11    1.432292"
      ]
     },
     "execution_count": 209,
     "metadata": {},
     "output_type": "execute_result"
    }
   ],
   "source": [
    "df_diabetes.iloc[:, 1:6].replace(to_replace=[0], value=np.nan).isna().sum().reset_index(name = 'missing_values').rename(columns={\"index\": \"variable\"}).assign( percentage = lambda df_reset: df_reset.missing_values / len(df_diabetes) * 100)"
   ]
  },
  {
   "attachments": {},
   "cell_type": "markdown",
   "metadata": {},
   "source": [
    "#### Proporcion de la variable objetivo"
   ]
  },
  {
   "cell_type": "code",
   "execution_count": 210,
   "metadata": {},
   "outputs": [
    {
     "data": {
      "image/png": "[encoded data removed]",
      "text/plain": [
       "<Figure size 504x504 with 1 Axes>"
      ]
     },
     "metadata": {},
     "output_type": "display_data"
    },
    {
     "name": "stdout",
     "output_type": "stream",
     "text": [
      "0    500\n",
      "1    268\n",
      "Name: Class, dtype: int64\n"
     ]
    }
   ],
   "source": [
    "plt.figure(figsize=(7,7))\n",
    "\n",
    "labels, counts = np.unique(df_diabetes.Class, return_counts=True)\n",
    "plt.pie(counts, autopct='%1.1f%%',labels=labels)\n",
    "plt.legend({'Diabetes Negativo','Diabetes positivo'})\n",
    "plt.title('Proporcion de diabetes')\n",
    "\n",
    "plt.show()\n",
    "\n",
    "print(df_diabetes.Class.value_counts())"
   ]
  },
  {
   "attachments": {},
   "cell_type": "markdown",
   "metadata": {},
   "source": [
    "### Entrenamiento de random forest con scikit-learn"
   ]
  },
  {
   "cell_type": "code",
   "execution_count": 211,
   "metadata": {},
   "outputs": [],
   "source": [
    "# Separamos en X e Y\n",
    "X_diabetes = df_diabetes.drop('Class',axis=1)\n",
    "y_diabetes = df_diabetes.Class"
   ]
  },
  {
   "cell_type": "code",
   "execution_count": 212,
   "metadata": {},
   "outputs": [],
   "source": [
    "# Importamos las librerias para entrenamiento y testeo\n",
    "from sklearn.model_selection import train_test_split\n",
    "\n",
    "X_train_diabetes, X_test_diabetes, y_train_diabetes, y_test_diabetes = train_test_split(X_diabetes,y_diabetes, test_size=.20, random_state=42)"
   ]
  },
  {
   "cell_type": "code",
   "execution_count": 213,
   "metadata": {},
   "outputs": [
    {
     "data": {
      "text/plain": [
       "((614, 8), (614,))"
      ]
     },
     "execution_count": 213,
     "metadata": {},
     "output_type": "execute_result"
    }
   ],
   "source": [
    "X_train_diabetes.shape,y_train_diabetes.shape"
   ]
  },
  {
   "cell_type": "code",
   "execution_count": 214,
   "metadata": {},
   "outputs": [],
   "source": [
    "# Bosque aleatorio\n",
    "from sklearn.ensemble import RandomForestClassifier\n",
    "\n",
    "# Instancia del modelo\n",
    "rfc_diabetes = RandomForestClassifier(random_state=42)"
   ]
  },
  {
   "cell_type": "code",
   "execution_count": 215,
   "metadata": {},
   "outputs": [],
   "source": [
    "# Optimizacion de parametros\n",
    "from sklearn.model_selection import GridSearchCV\n",
    "\n",
    "# Definir los hiperparámetros y sus posibles valores\n",
    "param_grid = {\n",
    "    'n_estimators': [10,25,50],\n",
    "    'max_depth' : [5,10,15],\n",
    "    'criterion' : ['mse', 'mae', 'gini', 'entropy', 'log_loss'],\n",
    "    'min_samples_split': [2,4,6],\n",
    "    'min_samples_leaf': [1,2,4],\n",
    "}"
   ]
  },
  {
   "cell_type": "code",
   "execution_count": 216,
   "metadata": {},
   "outputs": [],
   "source": [
    "# Crear el objeto GridSearchCV\n",
    "grid_search = GridSearchCV(estimator=rfc_diabetes, param_grid=param_grid, cv=5, scoring='accuracy')"
   ]
  },
  {
   "cell_type": "code",
   "execution_count": 217,
   "metadata": {},
   "outputs": [
    {
     "name": "stderr",
     "output_type": "stream",
     "text": [
      "/home/mazzaroli/anaconda3/lib/python3.9/site-packages/sklearn/model_selection/_validation.py:378: FitFailedWarning: \n",
      "810 fits failed out of a total of 2025.\n",
      "The score on these train-test partitions for these parameters will be set to nan.\n",
      "If these failures are not expected, you can try to debug them by setting error_score='raise'.\n",
      "\n",
      "Below are more details about the failures:\n",
      "--------------------------------------------------------------------------------\n",
      "405 fits failed with the following error:\n",
      "Traceback (most recent call last):\n",
      "  File \"/home/mazzaroli/anaconda3/lib/python3.9/site-packages/sklearn/model_selection/_validation.py\", line 686, in _fit_and_score\n",
      "    estimator.fit(X_train, y_train, **fit_params)\n",
      "  File \"/home/mazzaroli/anaconda3/lib/python3.9/site-packages/sklearn/ensemble/_forest.py\", line 476, in fit\n",
      "    trees = Parallel(\n",
      "  File \"/home/mazzaroli/anaconda3/lib/python3.9/site-packages/joblib/parallel.py\", line 1085, in __call__\n",
      "    if self.dispatch_one_batch(iterator):\n",
      "  File \"/home/mazzaroli/anaconda3/lib/python3.9/site-packages/joblib/parallel.py\", line 901, in dispatch_one_batch\n",
      "    self._dispatch(tasks)\n",
      "  File \"/home/mazzaroli/anaconda3/lib/python3.9/site-packages/joblib/parallel.py\", line 819, in _dispatch\n",
      "    job = self._backend.apply_async(batch, callback=cb)\n",
      "  File \"/home/mazzaroli/anaconda3/lib/python3.9/site-packages/joblib/_parallel_backends.py\", line 208, in apply_async\n",
      "    result = ImmediateResult(func)\n",
      "  File \"/home/mazzaroli/anaconda3/lib/python3.9/site-packages/joblib/_parallel_backends.py\", line 597, in __init__\n",
      "    self.results = batch()\n",
      "  File \"/home/mazzaroli/anaconda3/lib/python3.9/site-packages/joblib/parallel.py\", line 288, in __call__\n",
      "    return [func(*args, **kwargs)\n",
      "  File \"/home/mazzaroli/anaconda3/lib/python3.9/site-packages/joblib/parallel.py\", line 288, in <listcomp>\n",
      "    return [func(*args, **kwargs)\n",
      "  File \"/home/mazzaroli/anaconda3/lib/python3.9/site-packages/sklearn/utils/fixes.py\", line 117, in __call__\n",
      "    return self.function(*args, **kwargs)\n",
      "  File \"/home/mazzaroli/anaconda3/lib/python3.9/site-packages/sklearn/ensemble/_forest.py\", line 189, in _parallel_build_trees\n",
      "    tree.fit(X, y, sample_weight=curr_sample_weight, check_input=False)\n",
      "  File \"/home/mazzaroli/anaconda3/lib/python3.9/site-packages/sklearn/tree/_classes.py\", line 969, in fit\n",
      "    super().fit(\n",
      "  File \"/home/mazzaroli/anaconda3/lib/python3.9/site-packages/sklearn/tree/_classes.py\", line 390, in fit\n",
      "    criterion = CRITERIA_CLF[self.criterion](\n",
      "KeyError: 'mse'\n",
      "\n",
      "--------------------------------------------------------------------------------\n",
      "405 fits failed with the following error:\n",
      "Traceback (most recent call last):\n",
      "  File \"/home/mazzaroli/anaconda3/lib/python3.9/site-packages/sklearn/model_selection/_validation.py\", line 686, in _fit_and_score\n",
      "    estimator.fit(X_train, y_train, **fit_params)\n",
      "  File \"/home/mazzaroli/anaconda3/lib/python3.9/site-packages/sklearn/ensemble/_forest.py\", line 476, in fit\n",
      "    trees = Parallel(\n",
      "  File \"/home/mazzaroli/anaconda3/lib/python3.9/site-packages/joblib/parallel.py\", line 1085, in __call__\n",
      "    if self.dispatch_one_batch(iterator):\n",
      "  File \"/home/mazzaroli/anaconda3/lib/python3.9/site-packages/joblib/parallel.py\", line 901, in dispatch_one_batch\n",
      "    self._dispatch(tasks)\n",
      "  File \"/home/mazzaroli/anaconda3/lib/python3.9/site-packages/joblib/parallel.py\", line 819, in _dispatch\n",
      "    job = self._backend.apply_async(batch, callback=cb)\n",
      "  File \"/home/mazzaroli/anaconda3/lib/python3.9/site-packages/joblib/_parallel_backends.py\", line 208, in apply_async\n",
      "    result = ImmediateResult(func)\n",
      "  File \"/home/mazzaroli/anaconda3/lib/python3.9/site-packages/joblib/_parallel_backends.py\", line 597, in __init__\n",
      "    self.results = batch()\n",
      "  File \"/home/mazzaroli/anaconda3/lib/python3.9/site-packages/joblib/parallel.py\", line 288, in __call__\n",
      "    return [func(*args, **kwargs)\n",
      "  File \"/home/mazzaroli/anaconda3/lib/python3.9/site-packages/joblib/parallel.py\", line 288, in <listcomp>\n",
      "    return [func(*args, **kwargs)\n",
      "  File \"/home/mazzaroli/anaconda3/lib/python3.9/site-packages/sklearn/utils/fixes.py\", line 117, in __call__\n",
      "    return self.function(*args, **kwargs)\n",
      "  File \"/home/mazzaroli/anaconda3/lib/python3.9/site-packages/sklearn/ensemble/_forest.py\", line 189, in _parallel_build_trees\n",
      "    tree.fit(X, y, sample_weight=curr_sample_weight, check_input=False)\n",
      "  File \"/home/mazzaroli/anaconda3/lib/python3.9/site-packages/sklearn/tree/_classes.py\", line 969, in fit\n",
      "    super().fit(\n",
      "  File \"/home/mazzaroli/anaconda3/lib/python3.9/site-packages/sklearn/tree/_classes.py\", line 390, in fit\n",
      "    criterion = CRITERIA_CLF[self.criterion](\n",
      "KeyError: 'mae'\n",
      "\n",
      "  warnings.warn(some_fits_failed_message, FitFailedWarning)\n",
      "/home/mazzaroli/anaconda3/lib/python3.9/site-packages/sklearn/model_selection/_search.py:953: UserWarning: One or more of the test scores are non-finite: [       nan        nan        nan        nan        nan        nan\n",
      "        nan        nan        nan        nan        nan        nan\n",
      "        nan        nan        nan        nan        nan        nan\n",
      "        nan        nan        nan        nan        nan        nan\n",
      "        nan        nan        nan        nan        nan        nan\n",
      "        nan        nan        nan        nan        nan        nan\n",
      "        nan        nan        nan        nan        nan        nan\n",
      "        nan        nan        nan        nan        nan        nan\n",
      "        nan        nan        nan        nan        nan        nan\n",
      "        nan        nan        nan        nan        nan        nan\n",
      "        nan        nan        nan        nan        nan        nan\n",
      "        nan        nan        nan        nan        nan        nan\n",
      "        nan        nan        nan        nan        nan        nan\n",
      "        nan        nan        nan        nan        nan        nan\n",
      "        nan        nan        nan        nan        nan        nan\n",
      "        nan        nan        nan        nan        nan        nan\n",
      "        nan        nan        nan        nan        nan        nan\n",
      "        nan        nan        nan        nan        nan        nan\n",
      "        nan        nan        nan        nan        nan        nan\n",
      "        nan        nan        nan        nan        nan        nan\n",
      "        nan        nan        nan        nan        nan        nan\n",
      "        nan        nan        nan        nan        nan        nan\n",
      "        nan        nan        nan        nan        nan        nan\n",
      "        nan        nan        nan        nan        nan        nan\n",
      "        nan        nan        nan        nan        nan        nan\n",
      "        nan        nan        nan        nan        nan        nan\n",
      "        nan        nan        nan        nan        nan        nan\n",
      " 0.76873251 0.77856857 0.76714647 0.76545382 0.77206451 0.77042516\n",
      " 0.76867919 0.77369052 0.77203785 0.76544049 0.76877249 0.77039851\n",
      " 0.76544049 0.76877249 0.77039851 0.76378782 0.77041184 0.77203785\n",
      " 0.77520992 0.77528988 0.77202452 0.77520992 0.77528988 0.77202452\n",
      " 0.77520992 0.77528988 0.77202452 0.752499   0.75901639 0.76714647\n",
      " 0.749167   0.76548047 0.78339331 0.76390777 0.76879915 0.77038518\n",
      " 0.75893643 0.76874583 0.78179395 0.75893643 0.76874583 0.78179395\n",
      " 0.73942423 0.75247234 0.76711982 0.75736372 0.7720112  0.77039851\n",
      " 0.75736372 0.7720112  0.77039851 0.75736372 0.7720112  0.77039851\n",
      " 0.7459283  0.75253898 0.7720112  0.74923364 0.76222844 0.77527656\n",
      " 0.75577769 0.7622551  0.78019459 0.75241903 0.77359723 0.77686259\n",
      " 0.75241903 0.77359723 0.77686259 0.7296548  0.752499   0.76874583\n",
      " 0.75413834 0.76389444 0.76064241 0.75413834 0.76389444 0.76064241\n",
      " 0.75413834 0.76389444 0.76064241 0.77523657 0.78179395 0.7769159\n",
      " 0.7720112  0.78344662 0.78019459 0.75572438 0.76552046 0.77369052\n",
      " 0.76389444 0.78180728 0.788338   0.76389444 0.78180728 0.788338\n",
      " 0.7654938  0.77037185 0.77530321 0.75893643 0.7801546  0.78343329\n",
      " 0.75893643 0.7801546  0.78343329 0.75893643 0.7801546  0.78343329\n",
      " 0.75567106 0.78503265 0.77527656 0.7589231  0.77035852 0.78339331\n",
      " 0.7540717  0.78180728 0.78020792 0.77854192 0.76386779 0.76713315\n",
      " 0.77854192 0.76386779 0.76713315 0.75901639 0.75572438 0.76875916\n",
      " 0.76548047 0.75897641 0.76875916 0.76548047 0.75897641 0.76875916\n",
      " 0.76548047 0.75897641 0.76875916 0.75244569 0.78178062 0.78665867\n",
      " 0.78011462 0.76707983 0.78179395 0.74920698 0.77197121 0.78180728\n",
      " 0.77854192 0.75081967 0.75894975 0.77854192 0.75081967 0.75894975\n",
      " 0.75408503 0.74430228 0.76388111 0.76384113 0.7654938  0.77526323\n",
      " 0.76384113 0.7654938  0.77526323 0.76384113 0.7654938  0.77526323\n",
      " 0.77523657 0.78179395 0.7769159  0.7720112  0.78344662 0.78019459\n",
      " 0.75572438 0.76552046 0.77369052 0.76389444 0.78180728 0.788338\n",
      " 0.76389444 0.78180728 0.788338   0.7654938  0.77037185 0.77530321\n",
      " 0.75893643 0.7801546  0.78343329 0.75893643 0.7801546  0.78343329\n",
      " 0.75893643 0.7801546  0.78343329 0.75567106 0.78503265 0.77527656\n",
      " 0.7589231  0.77035852 0.78339331 0.7540717  0.78180728 0.78020792\n",
      " 0.77854192 0.76386779 0.76713315 0.77854192 0.76386779 0.76713315\n",
      " 0.75901639 0.75572438 0.76875916 0.76548047 0.75897641 0.76875916\n",
      " 0.76548047 0.75897641 0.76875916 0.76548047 0.75897641 0.76875916\n",
      " 0.75244569 0.78178062 0.78665867 0.78011462 0.76707983 0.78179395\n",
      " 0.74920698 0.77197121 0.78180728 0.77854192 0.75081967 0.75894975\n",
      " 0.77854192 0.75081967 0.75894975 0.75408503 0.74430228 0.76388111\n",
      " 0.76384113 0.7654938  0.77526323 0.76384113 0.7654938  0.77526323\n",
      " 0.76384113 0.7654938  0.77526323]\n",
      "  warnings.warn(\n"
     ]
    }
   ],
   "source": [
    "# Ajustar el modelo con GridSearchCV\n",
    "grid_search.fit(X_train_diabetes, y_train_diabetes)\n",
    "\n",
    "# Obtener el modelo con el mejor rendimiento\n",
    "best_model_diabetes = grid_search.best_estimator_"
   ]
  },
  {
   "cell_type": "code",
   "execution_count": 218,
   "metadata": {},
   "outputs": [
    {
     "data": {
      "text/plain": [
       "{'criterion': 'entropy',\n",
       " 'max_depth': 5,\n",
       " 'min_samples_leaf': 2,\n",
       " 'min_samples_split': 2,\n",
       " 'n_estimators': 50}"
      ]
     },
     "execution_count": 218,
     "metadata": {},
     "output_type": "execute_result"
    }
   ],
   "source": [
    "# Mejores parametros del modelo\n",
    "grid_search.best_params_"
   ]
  },
  {
   "cell_type": "code",
   "execution_count": 219,
   "metadata": {},
   "outputs": [],
   "source": [
    "from sklearn.metrics import accuracy_score, classification_report\n",
    "y_train_pred_diabetes = best_model_diabetes.predict(X_train_diabetes)\n",
    "y_test_pred_diabetes = best_model_diabetes.predict(X_test_diabetes)\n",
    "\n",
    "accuracy_train_diabetes = accuracy_score(y_train_diabetes,y_train_pred_diabetes)\n",
    "accuracy_test_diabetes = accuracy_score(y_test_diabetes,y_test_pred_diabetes)"
   ]
  },
  {
   "cell_type": "code",
   "execution_count": 220,
   "metadata": {},
   "outputs": [
    {
     "name": "stdout",
     "output_type": "stream",
     "text": [
      "0.8501628664495114\n",
      "0.7857142857142857\n"
     ]
    }
   ],
   "source": [
    "print(accuracy_train_diabetes)\n",
    "print(accuracy_test_diabetes)"
   ]
  },
  {
   "cell_type": "code",
   "execution_count": 221,
   "metadata": {},
   "outputs": [
    {
     "name": "stdout",
     "output_type": "stream",
     "text": [
      "              precision    recall  f1-score   support\n",
      "\n",
      "           0       0.81      0.87      0.84        99\n",
      "           1       0.73      0.64      0.68        55\n",
      "\n",
      "    accuracy                           0.79       154\n",
      "   macro avg       0.77      0.75      0.76       154\n",
      "weighted avg       0.78      0.79      0.78       154\n",
      "\n"
     ]
    }
   ],
   "source": [
    "print(classification_report(y_test_diabetes, y_test_pred_diabetes))"
   ]
  },
  {
   "attachments": {},
   "cell_type": "markdown",
   "metadata": {},
   "source": [
    "El modelo de Random Forest, con parámetros optimizados, alcanzó una **precisión general** del **79%** y un **promedio ponderado** del **76%**. \n",
    "\n",
    "El F1-score para la **clase \"0\"** fue de **84%**, indicando una buena capacidad para identificar casos negativos. Sin embargo, el F1-score para la **clase \"1\"** fue de **68%**, mostrando un rendimiento ligeramente inferior en la detección de casos positivos. \n",
    "\n",
    "En general, el modelo demostró un rendimiento satisfactorio."
   ]
  },
  {
   "attachments": {},
   "cell_type": "markdown",
   "metadata": {},
   "source": [
    "### Análisis de las importancias de los features"
   ]
  },
  {
   "cell_type": "code",
   "execution_count": 222,
   "metadata": {},
   "outputs": [
    {
     "name": "stderr",
     "output_type": "stream",
     "text": [
      "/home/mazzaroli/anaconda3/lib/python3.9/site-packages/seaborn/categorical.py:82: FutureWarning: iteritems is deprecated and will be removed in a future version. Use .items instead.\n",
      "  plot_data = [np.asarray(s, float) for k, s in iter_data]\n"
     ]
    },
    {
     "data": {
      "image/png": "[encoded data removed]",
      "text/plain": [
       "<Figure size 864x432 with 1 Axes>"
      ]
     },
     "metadata": {},
     "output_type": "display_data"
    },
    {
     "data": {
      "text/html": [
       "<div>\n",
       "<style scoped>\n",
       "    .dataframe tbody tr th:only-of-type {\n",
       "        vertical-align: middle;\n",
       "    }\n",
       "\n",
       "    .dataframe tbody tr th {\n",
       "        vertical-align: top;\n",
       "    }\n",
       "\n",
       "    .dataframe thead th {\n",
       "        text-align: right;\n",
       "    }\n",
       "</style>\n",
       "<table border=\"1\" class=\"dataframe\">\n",
       "  <thead>\n",
       "    <tr style=\"text-align: right;\">\n",
       "      <th></th>\n",
       "      <th>0</th>\n",
       "    </tr>\n",
       "  </thead>\n",
       "  <tbody>\n",
       "    <tr>\n",
       "      <th>plas</th>\n",
       "      <td>0.304330</td>\n",
       "    </tr>\n",
       "    <tr>\n",
       "      <th>mass</th>\n",
       "      <td>0.200533</td>\n",
       "    </tr>\n",
       "    <tr>\n",
       "      <th>age</th>\n",
       "      <td>0.157357</td>\n",
       "    </tr>\n",
       "    <tr>\n",
       "      <th>pedi</th>\n",
       "      <td>0.093927</td>\n",
       "    </tr>\n",
       "    <tr>\n",
       "      <th>test</th>\n",
       "      <td>0.070988</td>\n",
       "    </tr>\n",
       "    <tr>\n",
       "      <th>preg</th>\n",
       "      <td>0.069711</td>\n",
       "    </tr>\n",
       "    <tr>\n",
       "      <th>pres</th>\n",
       "      <td>0.057222</td>\n",
       "    </tr>\n",
       "    <tr>\n",
       "      <th>skin</th>\n",
       "      <td>0.045934</td>\n",
       "    </tr>\n",
       "  </tbody>\n",
       "</table>\n",
       "</div>"
      ],
      "text/plain": [
       "             0\n",
       "plas  0.304330\n",
       "mass  0.200533\n",
       "age   0.157357\n",
       "pedi  0.093927\n",
       "test  0.070988\n",
       "preg  0.069711\n",
       "pres  0.057222\n",
       "skin  0.045934"
      ]
     },
     "execution_count": 222,
     "metadata": {},
     "output_type": "execute_result"
    }
   ],
   "source": [
    "feature_scores_diabetes = pd.DataFrame(pd.Series(best_model_diabetes.feature_importances_, index=X_train_diabetes.columns).sort_values(ascending=False)).T\n",
    "plt.figure(figsize=(12,6))\n",
    "sns.barplot(data=feature_scores_diabetes)\n",
    "\n",
    "for index, value in enumerate(feature_scores_diabetes.values.flatten()):\n",
    "    plt.annotate(f'{value:.2f}', xy=(index, value), ha='center', va='bottom')\n",
    "\n",
    "\n",
    "plt.title(\"Factores clave en la predicción de diabetes positivo en pima indians\")\n",
    "plt.show()\n",
    "pd.DataFrame(feature_scores_diabetes).T"
   ]
  },
  {
   "attachments": {},
   "cell_type": "markdown",
   "metadata": {},
   "source": [
    "\n",
    "Un análisis de las importancias de las características revela que las características más influyentes para la predicción del modelo son:\n",
    "\n",
    "- **plas:** Con una importancia de 0.304330, se destaca como la característica más importante. Esto indica que la concentración de glucosa en plasma sanguíneo tiene un impacto significativo en la predicción de la diabetes.\n",
    "\n",
    "- **mass:** El índice de masa corporal (IMC) es la segunda característica más relevante, con una importancia de 0.200533. Esto sugiere que el peso relativo a la altura también juega un papel crucial en la predicción de la diabetes.\n",
    "\n",
    "- **age:** La edad se posiciona como la tercera característica más importante, con una importancia de 0.157357. Esto indica que la edad de la paciente también contribuye significativamente a la predicción de la enfermedad.\n",
    "\n",
    "- **pedi:** El valor de pedigree diabetes function (pedi) tiene una importancia de 0.093927. Esto sugiere que el historial familiar de diabetes puede tener un impacto en la predicción de la enfermedad.\n",
    "\n",
    "Las características restantes, como **test**, **preg**, **pres** y **skin** tienen importancias relativamente más bajas en comparación con las anteriores, pero aún contribuyen al proceso de predicción.\n",
    "\n",
    "Estos resultados resaltan la importancia de características clave como la concentración de glucosa, el índice de masa corporal, la edad y el historial familiar en la predicción de la diabetes en el conjunto de datos."
   ]
  },
  {
   "attachments": {},
   "cell_type": "markdown",
   "metadata": {},
   "source": [
    "### Validación cruzada"
   ]
  },
  {
   "cell_type": "code",
   "execution_count": 223,
   "metadata": {},
   "outputs": [
    {
     "name": "stdout",
     "output_type": "stream",
     "text": [
      "\n",
      "Accuracy scores for each fold: [78.04878049 76.42276423 72.35772358 74.79674797 79.50819672]\n",
      "Mean accuracy:  76.22684259629482\n",
      "Standard deviation:  2.495611367618129\n"
     ]
    }
   ],
   "source": [
    "from sklearn.model_selection import cross_val_score, KFold\n",
    "\n",
    "k = 5\n",
    "cv = KFold(n_splits=k, shuffle=True, random_state=42)\n",
    "\n",
    "scores = cross_val_score(best_model_diabetes, X_train_diabetes, y_train_diabetes, cv=cv, scoring='accuracy')\n",
    "print(\"\")\n",
    "print(\"Accuracy scores for each fold:\", scores*100)\n",
    "print(\"Mean accuracy: \", scores.mean()*100)\n",
    "print(\"Standard deviation: \", scores.std()*100)"
   ]
  },
  {
   "attachments": {},
   "cell_type": "markdown",
   "metadata": {},
   "source": [
    "los resultados muestran que el modelo tiene una **precisión promedio del 76.23%** en la validación cruzada, con una **desviación estándar de 2.49%**, lo que indica que las puntuaciones de precisión están relativamente cerca de la media y son consistentes entre los pliegues. \n",
    "\n",
    "Esto sugiere que el modelo tiene un rendimiento razonablemente estable y generaliza bien en los diferentes pliegues de la validación cruzada."
   ]
  },
  {
   "cell_type": "code",
   "execution_count": 224,
   "metadata": {},
   "outputs": [
    {
     "data": {
      "image/png": "[encoded data removed]",
      "text/plain": [
       "<Figure size 2160x2160 with 1 Axes>"
      ]
     },
     "metadata": {},
     "output_type": "display_data"
    }
   ],
   "source": [
    "from sklearn.ensemble import RandomForestClassifier\n",
    "import matplotlib.pyplot as plt\n",
    "from sklearn import tree\n",
    "\n",
    "plt.figure(figsize=(30, 30))\n",
    "\n",
    "# Obtener un árbol aleatorio del Random Forest\n",
    "tree_index = 0  # Índice del árbol deseado\n",
    "Tree = best_model_diabetes.estimators_[tree_index]\n",
    "\n",
    "# Visualizar el árbol utilizando plot_tree\n",
    "tree.plot_tree(Tree, feature_names=X_train_diabetes.columns, filled=True)\n",
    "plt.show()"
   ]
  },
  {
   "attachments": {},
   "cell_type": "markdown",
   "metadata": {},
   "source": [
    "# Proyecto práctico: random forest\n",
    "\n",
    "En este proyecto, utilizaremos el modelo Random Forest y reutilizaremos el conjunto de datos \"car evaluation\"."
   ]
  },
  {
   "cell_type": "code",
   "execution_count": 255,
   "metadata": {},
   "outputs": [
    {
     "data": {
      "text/html": [
       "<div>\n",
       "<style scoped>\n",
       "    .dataframe tbody tr th:only-of-type {\n",
       "        vertical-align: middle;\n",
       "    }\n",
       "\n",
       "    .dataframe tbody tr th {\n",
       "        vertical-align: top;\n",
       "    }\n",
       "\n",
       "    .dataframe thead th {\n",
       "        text-align: right;\n",
       "    }\n",
       "</style>\n",
       "<table border=\"1\" class=\"dataframe\">\n",
       "  <thead>\n",
       "    <tr style=\"text-align: right;\">\n",
       "      <th></th>\n",
       "      <th>price</th>\n",
       "      <th>maint</th>\n",
       "      <th>doors</th>\n",
       "      <th>persons</th>\n",
       "      <th>lug_boot</th>\n",
       "      <th>safety</th>\n",
       "    </tr>\n",
       "  </thead>\n",
       "  <tbody>\n",
       "    <tr>\n",
       "      <th>0</th>\n",
       "      <td>1</td>\n",
       "      <td>1</td>\n",
       "      <td>1</td>\n",
       "      <td>1</td>\n",
       "      <td>1</td>\n",
       "      <td>1</td>\n",
       "    </tr>\n",
       "    <tr>\n",
       "      <th>1</th>\n",
       "      <td>1</td>\n",
       "      <td>2</td>\n",
       "      <td>2</td>\n",
       "      <td>1</td>\n",
       "      <td>1</td>\n",
       "      <td>1</td>\n",
       "    </tr>\n",
       "    <tr>\n",
       "      <th>2</th>\n",
       "      <td>2</td>\n",
       "      <td>2</td>\n",
       "      <td>3</td>\n",
       "      <td>1</td>\n",
       "      <td>1</td>\n",
       "      <td>1</td>\n",
       "    </tr>\n",
       "    <tr>\n",
       "      <th>3</th>\n",
       "      <td>2</td>\n",
       "      <td>2</td>\n",
       "      <td>4</td>\n",
       "      <td>2</td>\n",
       "      <td>2</td>\n",
       "      <td>2</td>\n",
       "    </tr>\n",
       "    <tr>\n",
       "      <th>4</th>\n",
       "      <td>3</td>\n",
       "      <td>3</td>\n",
       "      <td>3</td>\n",
       "      <td>2</td>\n",
       "      <td>1</td>\n",
       "      <td>2</td>\n",
       "    </tr>\n",
       "    <tr>\n",
       "      <th>...</th>\n",
       "      <td>...</td>\n",
       "      <td>...</td>\n",
       "      <td>...</td>\n",
       "      <td>...</td>\n",
       "      <td>...</td>\n",
       "      <td>...</td>\n",
       "    </tr>\n",
       "    <tr>\n",
       "      <th>255</th>\n",
       "      <td>2</td>\n",
       "      <td>3</td>\n",
       "      <td>3</td>\n",
       "      <td>1</td>\n",
       "      <td>1</td>\n",
       "      <td>2</td>\n",
       "    </tr>\n",
       "    <tr>\n",
       "      <th>256</th>\n",
       "      <td>2</td>\n",
       "      <td>3</td>\n",
       "      <td>2</td>\n",
       "      <td>2</td>\n",
       "      <td>3</td>\n",
       "      <td>2</td>\n",
       "    </tr>\n",
       "    <tr>\n",
       "      <th>257</th>\n",
       "      <td>2</td>\n",
       "      <td>3</td>\n",
       "      <td>2</td>\n",
       "      <td>2</td>\n",
       "      <td>1</td>\n",
       "      <td>2</td>\n",
       "    </tr>\n",
       "    <tr>\n",
       "      <th>258</th>\n",
       "      <td>2</td>\n",
       "      <td>3</td>\n",
       "      <td>2</td>\n",
       "      <td>1</td>\n",
       "      <td>3</td>\n",
       "      <td>2</td>\n",
       "    </tr>\n",
       "    <tr>\n",
       "      <th>259</th>\n",
       "      <td>2</td>\n",
       "      <td>3</td>\n",
       "      <td>2</td>\n",
       "      <td>1</td>\n",
       "      <td>1</td>\n",
       "      <td>2</td>\n",
       "    </tr>\n",
       "  </tbody>\n",
       "</table>\n",
       "<p>260 rows × 6 columns</p>\n",
       "</div>"
      ],
      "text/plain": [
       "     price  maint  doors  persons  lug_boot  safety\n",
       "0        1      1      1        1         1       1\n",
       "1        1      2      2        1         1       1\n",
       "2        2      2      3        1         1       1\n",
       "3        2      2      4        2         2       2\n",
       "4        3      3      3        2         1       2\n",
       "..     ...    ...    ...      ...       ...     ...\n",
       "255      2      3      3        1         1       2\n",
       "256      2      3      2        2         3       2\n",
       "257      2      3      2        2         1       2\n",
       "258      2      3      2        1         3       2\n",
       "259      2      3      2        1         1       2\n",
       "\n",
       "[260 rows x 6 columns]"
      ]
     },
     "execution_count": 255,
     "metadata": {},
     "output_type": "execute_result"
    }
   ],
   "source": [
    "X_car"
   ]
  },
  {
   "cell_type": "code",
   "execution_count": 256,
   "metadata": {},
   "outputs": [
    {
     "data": {
      "text/plain": [
       "0        acc\n",
       "1        acc\n",
       "2        acc\n",
       "3        acc\n",
       "4        acc\n",
       "       ...  \n",
       "255    vgood\n",
       "256    vgood\n",
       "257    vgood\n",
       "258    vgood\n",
       "259    vgood\n",
       "Name: Class, Length: 260, dtype: object"
      ]
     },
     "execution_count": 256,
     "metadata": {},
     "output_type": "execute_result"
    }
   ],
   "source": [
    "y_car"
   ]
  },
  {
   "cell_type": "code",
   "execution_count": 257,
   "metadata": {},
   "outputs": [],
   "source": [
    "X_train_car,X_test_car,y_train_car,y_test_car = train_test_split(X_car,y_car, random_state=42)"
   ]
  },
  {
   "attachments": {},
   "cell_type": "markdown",
   "metadata": {},
   "source": [
    "## Entrenamiento del modelo"
   ]
  },
  {
   "cell_type": "code",
   "execution_count": 288,
   "metadata": {},
   "outputs": [],
   "source": [
    "rfc_car = RandomForestClassifier(n_estimators=5,random_state=42)"
   ]
  },
  {
   "cell_type": "code",
   "execution_count": 289,
   "metadata": {},
   "outputs": [
    {
     "data": {
      "text/html": [
       "<style>#sk-container-id-10 {color: black;background-color: white;}#sk-container-id-10 pre{padding: 0;}#sk-container-id-10 div.sk-toggleable {background-color: white;}#sk-container-id-10 label.sk-toggleable__label {cursor: pointer;display: block;width: 100%;margin-bottom: 0;padding: 0.3em;box-sizing: border-box;text-align: center;}#sk-container-id-10 label.sk-toggleable__label-arrow:before {content: \"▸\";float: left;margin-right: 0.25em;color: #696969;}#sk-container-id-10 label.sk-toggleable__label-arrow:hover:before {color: black;}#sk-container-id-10 div.sk-estimator:hover label.sk-toggleable__label-arrow:before {color: black;}#sk-container-id-10 div.sk-toggleable__content {max-height: 0;max-width: 0;overflow: hidden;text-align: left;background-color: #f0f8ff;}#sk-container-id-10 div.sk-toggleable__content pre {margin: 0.2em;color: black;border-radius: 0.25em;background-color: #f0f8ff;}#sk-container-id-10 input.sk-toggleable__control:checked~div.sk-toggleable__content {max-height: 200px;max-width: 100%;overflow: auto;}#sk-container-id-10 input.sk-toggleable__control:checked~label.sk-toggleable__label-arrow:before {content: \"▾\";}#sk-container-id-10 div.sk-estimator input.sk-toggleable__control:checked~label.sk-toggleable__label {background-color: #d4ebff;}#sk-container-id-10 div.sk-label input.sk-toggleable__control:checked~label.sk-toggleable__label {background-color: #d4ebff;}#sk-container-id-10 input.sk-hidden--visually {border: 0;clip: rect(1px 1px 1px 1px);clip: rect(1px, 1px, 1px, 1px);height: 1px;margin: -1px;overflow: hidden;padding: 0;position: absolute;width: 1px;}#sk-container-id-10 div.sk-estimator {font-family: monospace;background-color: #f0f8ff;border: 1px dotted black;border-radius: 0.25em;box-sizing: border-box;margin-bottom: 0.5em;}#sk-container-id-10 div.sk-estimator:hover {background-color: #d4ebff;}#sk-container-id-10 div.sk-parallel-item::after {content: \"\";width: 100%;border-bottom: 1px solid gray;flex-grow: 1;}#sk-container-id-10 div.sk-label:hover label.sk-toggleable__label {background-color: #d4ebff;}#sk-container-id-10 div.sk-serial::before {content: \"\";position: absolute;border-left: 1px solid gray;box-sizing: border-box;top: 0;bottom: 0;left: 50%;z-index: 0;}#sk-container-id-10 div.sk-serial {display: flex;flex-direction: column;align-items: center;background-color: white;padding-right: 0.2em;padding-left: 0.2em;position: relative;}#sk-container-id-10 div.sk-item {position: relative;z-index: 1;}#sk-container-id-10 div.sk-parallel {display: flex;align-items: stretch;justify-content: center;background-color: white;position: relative;}#sk-container-id-10 div.sk-item::before, #sk-container-id-10 div.sk-parallel-item::before {content: \"\";position: absolute;border-left: 1px solid gray;box-sizing: border-box;top: 0;bottom: 0;left: 50%;z-index: -1;}#sk-container-id-10 div.sk-parallel-item {display: flex;flex-direction: column;z-index: 1;position: relative;background-color: white;}#sk-container-id-10 div.sk-parallel-item:first-child::after {align-self: flex-end;width: 50%;}#sk-container-id-10 div.sk-parallel-item:last-child::after {align-self: flex-start;width: 50%;}#sk-container-id-10 div.sk-parallel-item:only-child::after {width: 0;}#sk-container-id-10 div.sk-dashed-wrapped {border: 1px dashed gray;margin: 0 0.4em 0.5em 0.4em;box-sizing: border-box;padding-bottom: 0.4em;background-color: white;}#sk-container-id-10 div.sk-label label {font-family: monospace;font-weight: bold;display: inline-block;line-height: 1.2em;}#sk-container-id-10 div.sk-label-container {text-align: center;}#sk-container-id-10 div.sk-container {/* jupyter's `normalize.less` sets `[hidden] { display: none; }` but bootstrap.min.css set `[hidden] { display: none !important; }` so we also need the `!important` here to be able to override the default hidden behavior on the sphinx rendered scikit-learn.org. See: https://github.com/scikit-learn/scikit-learn/issues/21755 */display: inline-block !important;position: relative;}#sk-container-id-10 div.sk-text-repr-fallback {display: none;}</style><div id=\"sk-container-id-10\" class=\"sk-top-container\"><div class=\"sk-text-repr-fallback\"><pre>RandomForestClassifier(n_estimators=5, random_state=42)</pre><b>In a Jupyter environment, please rerun this cell to show the HTML representation or trust the notebook. <br />On GitHub, the HTML representation is unable to render, please try loading this page with nbviewer.org.</b></div><div class=\"sk-container\" hidden><div class=\"sk-item\"><div class=\"sk-estimator sk-toggleable\"><input class=\"sk-toggleable__control sk-hidden--visually\" id=\"sk-estimator-id-10\" type=\"checkbox\" checked><label for=\"sk-estimator-id-10\" class=\"sk-toggleable__label sk-toggleable__label-arrow\">RandomForestClassifier</label><div class=\"sk-toggleable__content\"><pre>RandomForestClassifier(n_estimators=5, random_state=42)</pre></div></div></div></div></div>"
      ],
      "text/plain": [
       "RandomForestClassifier(n_estimators=5, random_state=42)"
      ]
     },
     "execution_count": 289,
     "metadata": {},
     "output_type": "execute_result"
    }
   ],
   "source": [
    "rfc_car.fit(X_train_car,y_train_car)"
   ]
  },
  {
   "cell_type": "code",
   "execution_count": 290,
   "metadata": {},
   "outputs": [],
   "source": [
    "y_pred_test_car = rfc_car.predict(X_test_car)\n",
    "y_pred_train_car = rfc_car.predict(X_train_car)"
   ]
  },
  {
   "attachments": {},
   "cell_type": "markdown",
   "metadata": {},
   "source": [
    "### Evaluacion del modelo"
   ]
  },
  {
   "cell_type": "code",
   "execution_count": 291,
   "metadata": {},
   "outputs": [],
   "source": [
    "from sklearn.metrics import accuracy_score, classification_report, confusion_matrix"
   ]
  },
  {
   "cell_type": "code",
   "execution_count": 292,
   "metadata": {},
   "outputs": [
    {
     "name": "stdout",
     "output_type": "stream",
     "text": [
      "0.9846153846153847\n",
      "0.9076923076923077\n"
     ]
    }
   ],
   "source": [
    "print(accuracy_score(y_train_car,y_pred_train_car))\n",
    "print(accuracy_score(y_test_car,y_pred_test_car))"
   ]
  },
  {
   "cell_type": "code",
   "execution_count": 293,
   "metadata": {},
   "outputs": [
    {
     "name": "stdout",
     "output_type": "stream",
     "text": [
      "              precision    recall  f1-score   support\n",
      "\n",
      "         acc       0.86      0.75      0.80        16\n",
      "        good       0.85      1.00      0.92        17\n",
      "       unacc       0.93      0.87      0.90        15\n",
      "       vgood       1.00      1.00      1.00        17\n",
      "\n",
      "    accuracy                           0.91        65\n",
      "   macro avg       0.91      0.90      0.90        65\n",
      "weighted avg       0.91      0.91      0.91        65\n",
      "\n"
     ]
    }
   ],
   "source": [
    "print(classification_report(y_test_car,y_pred_test_car))"
   ]
  },
  {
   "attachments": {},
   "cell_type": "markdown",
   "metadata": {},
   "source": [
    "### Feature importances"
   ]
  },
  {
   "cell_type": "code",
   "execution_count": 294,
   "metadata": {},
   "outputs": [
    {
     "name": "stderr",
     "output_type": "stream",
     "text": [
      "/home/mazzaroli/anaconda3/lib/python3.9/site-packages/seaborn/categorical.py:82: FutureWarning: iteritems is deprecated and will be removed in a future version. Use .items instead.\n",
      "  plot_data = [np.asarray(s, float) for k, s in iter_data]\n"
     ]
    },
    {
     "data": {
      "image/png": "[encoded data removed]",
      "text/plain": [
       "<Figure size 864x432 with 1 Axes>"
      ]
     },
     "metadata": {},
     "output_type": "display_data"
    },
    {
     "data": {
      "text/html": [
       "<div>\n",
       "<style scoped>\n",
       "    .dataframe tbody tr th:only-of-type {\n",
       "        vertical-align: middle;\n",
       "    }\n",
       "\n",
       "    .dataframe tbody tr th {\n",
       "        vertical-align: top;\n",
       "    }\n",
       "\n",
       "    .dataframe thead th {\n",
       "        text-align: right;\n",
       "    }\n",
       "</style>\n",
       "<table border=\"1\" class=\"dataframe\">\n",
       "  <thead>\n",
       "    <tr style=\"text-align: right;\">\n",
       "      <th></th>\n",
       "      <th>0</th>\n",
       "    </tr>\n",
       "  </thead>\n",
       "  <tbody>\n",
       "    <tr>\n",
       "      <th>safety</th>\n",
       "      <td>0.271247</td>\n",
       "    </tr>\n",
       "    <tr>\n",
       "      <th>price</th>\n",
       "      <td>0.196142</td>\n",
       "    </tr>\n",
       "    <tr>\n",
       "      <th>maint</th>\n",
       "      <td>0.166684</td>\n",
       "    </tr>\n",
       "    <tr>\n",
       "      <th>persons</th>\n",
       "      <td>0.137885</td>\n",
       "    </tr>\n",
       "    <tr>\n",
       "      <th>lug_boot</th>\n",
       "      <td>0.124887</td>\n",
       "    </tr>\n",
       "    <tr>\n",
       "      <th>doors</th>\n",
       "      <td>0.103154</td>\n",
       "    </tr>\n",
       "  </tbody>\n",
       "</table>\n",
       "</div>"
      ],
      "text/plain": [
       "                 0\n",
       "safety    0.271247\n",
       "price     0.196142\n",
       "maint     0.166684\n",
       "persons   0.137885\n",
       "lug_boot  0.124887\n",
       "doors     0.103154"
      ]
     },
     "execution_count": 294,
     "metadata": {},
     "output_type": "execute_result"
    }
   ],
   "source": [
    "feature_scores_car = pd.DataFrame(pd.Series(rfc_car.feature_importances_, index=X_train_car.columns).sort_values(ascending=False)).T\n",
    "plt.figure(figsize=(12,6))\n",
    "sns.barplot(data=feature_scores_car)\n",
    "\n",
    "for index, value in enumerate(feature_scores_car.values.flatten()):\n",
    "    plt.annotate(f'{value:.2f}', xy=(index, value), ha='center', va='bottom')\n",
    "\n",
    "\n",
    "plt.title(\"Factores clave en la predicción de la calidad de un automovil\")\n",
    "plt.show()\n",
    "pd.DataFrame(feature_scores_car).T"
   ]
  },
  {
   "attachments": {},
   "cell_type": "markdown",
   "metadata": {},
   "source": [
    "Un análisis de las importancias de las características revela que las características más influyentes para la evaluación del modelo de coches son:\n",
    "\n",
    "- **safety:** Con una importancia de 0.271247, se destaca como la característica más importante. Esto indica que la seguridad del vehículo tiene un impacto significativo en la evaluación.\n",
    "\n",
    "- **price:** El precio del coche es la segunda característica más relevante, con una importancia de 0.196142. Esto sugiere que el precio juega un papel crucial en la evaluación de los vehículos.\n",
    "\n",
    "- **maint:** El costo de mantenimiento se posiciona como la tercera característica más importante, con una importancia de 0.166684. Esto indica que el costo de mantenimiento también contribuye significativamente a la evaluación de los coches.\n",
    "\n",
    "- **persons:** La capacidad de pasajeros es la cuarta característica más importante, con una importancia de 0.137885. Esto sugiere que la cantidad de personas que el coche puede acomodar también es un factor relevante en la evaluación.\n",
    "\n",
    "- **lug_boot:** El tamaño del maletero tiene una importancia de 0.124887. Esto indica que la capacidad de almacenamiento también contribuye a la evaluación de los vehículos.\n",
    "\n",
    "- **doors:** El número de puertas se posiciona como la sexta característica más importante, con una importancia de 0.103154. Esto sugiere que la cantidad de puertas también puede afectar la evaluación de los coches.\n",
    "\n",
    "Estos resultados resaltan la importancia de características clave como la **seguridad, el precio, el costo de mantenimiento**.\n",
    "\n",
    "En cuanto a las características que podrían considerarse menos importantes estan **la capacidad de pasajeros, el tamaño del maletero y el número de puertas**.\n",
    "\n",
    "Estas características tienen importancias relativamente más bajas en comparación con las tres primeras mencionadas. Sin embargo, aún contribuyen al proceso de evaluación de los coches y pueden proporcionar información adicional."
   ]
  }
 ],
 "metadata": {
  "kernelspec": {
   "display_name": "base",
   "language": "python",
   "name": "python3"
  },
  "language_info": {
   "codemirror_mode": {
    "name": "ipython",
    "version": 3
   },
   "file_extension": ".py",
   "mimetype": "text/x-python",
   "name": "python",
   "nbconvert_exporter": "python",
   "pygments_lexer": "ipython3",
   "version": "3.9.7"
  },
  "orig_nbformat": 4
 },
 "nbformat": 4,
 "nbformat_minor": 2
}
